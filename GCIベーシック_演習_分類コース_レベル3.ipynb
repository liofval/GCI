{
  "nbformat": 4,
  "nbformat_minor": 0,
  "metadata": {
    "colab": {
      "provenance": [],
      "include_colab_link": true
    },
    "kernelspec": {
      "name": "python3",
      "display_name": "Python 3"
    },
    "language_info": {
      "name": "python"
    }
  },
  "cells": [
    {
      "cell_type": "markdown",
      "metadata": {
        "id": "view-in-github",
        "colab_type": "text"
      },
      "source": [
        "<a href=\"https://colab.research.google.com/github/liofval/GCI/blob/main/GCI%E3%83%98%E3%82%99%E3%83%BC%E3%82%B7%E3%83%83%E3%82%AF_%E6%BC%94%E7%BF%92_%E5%88%86%E9%A1%9E%E3%82%B3%E3%83%BC%E3%82%B9_%E3%83%AC%E3%83%98%E3%82%99%E3%83%AB3.ipynb\" target=\"_parent\"><img src=\"https://colab.research.google.com/assets/colab-badge.svg\" alt=\"Open In Colab\"/></a>"
      ]
    },
    {
      "cell_type": "markdown",
      "source": [
        "# **分類コース**\n",
        "\n",
        "\n",
        "---\n",
        "\n",
        "\n",
        "分類コースでは、**データのカテゴリーを予測する機械学習モデル「決定木」**を取り扱い、**「データの理解→データの前処理→モデルの構築・評価」**という一連の流れを通して、各レベルに応じてデータ分析に必要な知識の習得を目指します。"
      ],
      "metadata": {
        "id": "bamV9hK1xBQu"
      }
    },
    {
      "cell_type": "markdown",
      "source": [
        "#レベル３（★★★☆☆）\n",
        "\n",
        "---\n",
        "レベル３では、データの結合を扱います。これまでは、1つの表データを加工し、モデルを構築しましたが、今回は、2つの表データがあるときの結合方法ついて学びます。データの結合は、異なるデータベースからデータを抽出する場合やデータの重複を避けて分けて保存されている場合などに必要となります。"
      ],
      "metadata": {
        "id": "9hl_6n2A39-p"
      }
    },
    {
      "cell_type": "markdown",
      "source": [
        "##3.1.データの理解"
      ],
      "metadata": {
        "id": "mL2pyqSi4HUI"
      }
    },
    {
      "cell_type": "markdown",
      "source": [
        "今回は、毒キノコの外観だけでなく、匂いに関する情報も使用して、分類タスクに取り組みます。これまでどおり以下のリンクからキノコの外観データと匂いに関するデータを共にダウンロードし、所定の位置にアップロードし、ファイルを読み込んでみましょう。そして、今回扱う匂いデータを表示して中身を確認しましょう。\n",
        "\n",
        "[毒キノコの外観データ.csv](https://drive.google.com/file/d/18oIhPQ4iOYoVolKMjzt1Kyek0x_WhSEW/view?usp=drive_link)\n",
        "\n",
        "[毒キノコの匂いデータ.csv](https://drive.google.com/file/d/1f58PLh0RiZqvNa_lan2pu7tHubAeqgO3/view?usp=drive_link)"
      ],
      "metadata": {
        "id": "u2-dKL8V0h4I"
      }
    },
    {
      "cell_type": "code",
      "source": [
        "import pandas as pd\n",
        "\n",
        "df1 = pd.read_csv('毒キノコの外観データ.csv')\n",
        "df2 = pd.read_csv('毒キノコの匂いデータ.csv')\n",
        "\n",
        "df2.head()"
      ],
      "metadata": {
        "id": "0a4KHAYR0hbL"
      },
      "execution_count": null,
      "outputs": []
    },
    {
      "cell_type": "markdown",
      "source": [
        "匂いデータには、IDと匂い(odor)に関する情報があることがわかります。次にデータの数を確認します。"
      ],
      "metadata": {
        "id": "wvJMtjWNwlgh"
      }
    },
    {
      "cell_type": "code",
      "source": [
        "print('外観データの数', len(df1))\n",
        "print('匂いデータの数', len(df2))"
      ],
      "metadata": {
        "id": "Y2ig4gDOW1sK"
      },
      "execution_count": null,
      "outputs": []
    },
    {
      "cell_type": "markdown",
      "source": [
        "外観データの数に比べて、匂いデータの数は4件ほど少ないことが確認できます。"
      ],
      "metadata": {
        "id": "J9_1-ghGwQBn"
      }
    },
    {
      "cell_type": "markdown",
      "source": [
        "両データは、UC Irvine Machine Learning Repositoryで公開されているデータを学習用に加工しています。（\n",
        "https://archive.ics.uci.edu/ml/machine-learning-databases/mushroom/agaricus-lepiota.data\n",
        "）"
      ],
      "metadata": {
        "id": "QxGmXuZP8QJC"
      }
    },
    {
      "cell_type": "markdown",
      "source": [
        "匂いの種類をレベル1でも使用したuniqueメソッドで確認してみましょう。"
      ],
      "metadata": {
        "id": "-IvWpQHL1BS0"
      }
    },
    {
      "cell_type": "code",
      "source": [
        "#色の種類を確認\n",
        "df2['odor'].unique()"
      ],
      "metadata": {
        "id": "zhU8JjCE5r2S"
      },
      "execution_count": null,
      "outputs": []
    },
    {
      "cell_type": "markdown",
      "source": [
        "9種類のデータが含まれていると分かります。アルファベット小文字で記載された略称の意味は以下の表のようになっています。\n",
        "\n",
        "| 略称  | 匂い |\n",
        "|-----|------|\n",
        "| p | 辛味 |\n",
        "| a | アーモンド |\n",
        "| l | アニス |\n",
        "| n | なし |\n",
        "| f | ファウル |\n",
        "| c | クレオソート |\n",
        "| y | フィッシュ |\n",
        "| s | スパイシー |\n",
        "| m | ミューズイ |  "
      ],
      "metadata": {
        "id": "IB2RUdA46hs1"
      }
    },
    {
      "cell_type": "markdown",
      "source": [
        "匂いデータのIDは、これまで扱っていた毒キノコの外観データのIDに対応しています。つまり、IDが同じ行のデータは、同じキノコの特徴についての情報となります。そこで、このIDに対応させてデータを結合させ、特徴量に斑点と色、匂いを用いて毒キノコがどうかを予測する分類モデルを構築してみましょう。"
      ],
      "metadata": {
        "id": "lR7eVBDQ6TtC"
      }
    },
    {
      "cell_type": "markdown",
      "source": [
        "##3.2. データの前処理"
      ],
      "metadata": {
        "id": "WGmLiC9W4H-l"
      }
    },
    {
      "cell_type": "markdown",
      "source": [
        "DataFrameオブジェクトの結合には、pandasのmerge関数を使用します。引数に、結合したい2つのDataFrameオブジェクトを入力します。同じ名前の列名IDを認識して、その列を基準に結合されます。"
      ],
      "metadata": {
        "id": "CVCQ4A891nIt"
      }
    },
    {
      "cell_type": "code",
      "source": [
        "#内部結合（外観データdf1 ＋ 匂いデータdf2）\n",
        "df = pd.merge(df1, df2)\n",
        "df.head()"
      ],
      "metadata": {
        "id": "bkDgSr0eNKx5"
      },
      "execution_count": null,
      "outputs": []
    },
    {
      "cell_type": "code",
      "source": [
        "len(df)"
      ],
      "metadata": {
        "id": "D-nI6Zv4XJre"
      },
      "execution_count": null,
      "outputs": []
    },
    {
      "cell_type": "markdown",
      "source": [
        "結合後のデータ数は、結合前の外観データの数より少なくなっており、匂いデータの数と同じになっています。merge関数では、デフォルトで内部結合になっているため、データ数が少なくなっています。次に、結合方法の違いについて確認します。"
      ],
      "metadata": {
        "id": "-MCwKn58ANG7"
      }
    },
    {
      "cell_type": "markdown",
      "source": [
        ">**[merge関数の結合方法]**\n",
        ">\n",
        ">表データの同士の結合方法として、**内部結合**と**左外部結合**と**完全外部結合**がよく使用されます。内部結合では、異なるテーブル間で特定列に一致するデータを結合し、一致しない行は削除されます。左外部結合では、異なるテーブル間で左の特定列にある全てのデータを結合して抽出しますが、右のテーブルに一致しないデータは欠損値となります。完全外部結合は、両テーブルに一致しない行は欠損値として、全てのデータを結合します。pandasのmerge関数では、引数`how`に`inner`（内部結合）や`left`（左外部結合）、`outer`（完全外部結合）を指定して結合様式を切り替えられます。"
      ],
      "metadata": {
        "id": "cXupqt_kYgbD"
      }
    },
    {
      "cell_type": "markdown",
      "source": [
        "![image.png](data:image/png;base64,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)"
      ],
      "metadata": {
        "id": "yliAyXj5R7eR"
      }
    },
    {
      "cell_type": "markdown",
      "source": [
        "今回、内部結合したデータ数が匂いデータ数と同じとなっていることから、匂いデータのIDは、外観データのIDに全て含まれていると考えられます。特定の列のデータが他の列データに含まれているかどうかを調べる方法には、isinメソッドが使用できます。以下のコードセルでは、df1のID列の各データがdf2のID列のデータに含まれるか確認しています。"
      ],
      "metadata": {
        "id": "kQy5g9-NBfQD"
      }
    },
    {
      "cell_type": "code",
      "source": [
        "#df1のID列の各データがdf2のID列のデータに含まれるか確認（含まれる➤True、含まれない➤False）\n",
        "se_id1_is_in_id2 = df1['ID'].isin(df2['ID'])\n",
        "se_id1_is_in_id2.head()"
      ],
      "metadata": {
        "id": "R5MvQ1_WXW1u"
      },
      "execution_count": null,
      "outputs": []
    },
    {
      "cell_type": "markdown",
      "source": [
        "isinメソッドは、かっこ内の引数に含まれるデータをTrue、含まれないデータをFalseとした真偽値（bool）型の値を持つSeriesオブジェクトを返します。df1のIDデータのうち、何件のデータが含まれなかったか確認します。真偽値型の値を持つSeriesオブジェクトのTrueの数を数える方法にsumメソッドが使用できますが、今回は含まれないFalseの数を調べるため、いったんFalseをTrue、TrueをFalseに変換してsumメソッドを使用したいと思います。真偽値を反転させるには、Seriesオブジェクトの前に`~`（チルダ）記号を付けます。"
      ],
      "metadata": {
        "id": "-FXRyGgsCRNu"
      }
    },
    {
      "cell_type": "code",
      "source": [
        "se_id1_is_not_in_id2 = ~se_id1_is_in_id2\n",
        "se_id1_is_not_in_id2.head()"
      ],
      "metadata": {
        "id": "j9X-zbzBX3ax"
      },
      "execution_count": null,
      "outputs": []
    },
    {
      "cell_type": "code",
      "source": [
        "se_id1_is_not_in_id2.sum()"
      ],
      "metadata": {
        "id": "mSrp2vHUEwrO"
      },
      "execution_count": null,
      "outputs": []
    },
    {
      "cell_type": "code",
      "source": [
        "#df2のうちdf1に含まれない数\n",
        "se_id2_is_in_id1 = df2['ID'].isin(df1['ID'])\n",
        "se_id2_is_not_in_id1 = ~se_id2_is_in_id1\n",
        "se_id2_is_not_in_id1.sum()"
      ],
      "metadata": {
        "id": "KFVnwq49YGqD"
      },
      "execution_count": null,
      "outputs": []
    },
    {
      "cell_type": "markdown",
      "source": [
        "df2のうちdf1に含まれない数が0件であることから、df2のIDは全てdf1に含まれることを確認できます。"
      ],
      "metadata": {
        "id": "iDZl5m5uGFis"
      }
    },
    {
      "cell_type": "markdown",
      "source": [
        "次にdf1のうちdf2に含まれないデータがどのIDかを確認したいと思います。すでに、含まれないデータについての真偽値のSeriesオブジェクトがあるため、レベル２で学んだloc属性を利用して抽出してみましょう。"
      ],
      "metadata": {
        "id": "MHm9BM8rGCc6"
      }
    },
    {
      "cell_type": "code",
      "source": [
        "df1.loc[se_id1_is_not_in_id2, 'ID']"
      ],
      "metadata": {
        "id": "bwz6Hc8AdCaH"
      },
      "execution_count": null,
      "outputs": []
    },
    {
      "cell_type": "markdown",
      "source": [
        "抽出したSeriesオブジェクトの表示結果から、ID（1, 617, 2387, 6081）の4件がdf2には含まれていなかったことが確認できます。そのため、内部結合では、結合後、4件少なくなっていました。それでは、左外部結合をした場合は、データ数はどうなるでしょうか。引数`how`に`left`を指定して、外観データ（左）に匂いデータ（右）を左外部結合してみましょう。"
      ],
      "metadata": {
        "id": "QzpNZEjaHYG6"
      }
    },
    {
      "cell_type": "code",
      "source": [
        "df_left = pd.merge(df1, df2, how='left')\n",
        "df_left.head()"
      ],
      "metadata": {
        "id": "clF_TTQ5bE29"
      },
      "execution_count": null,
      "outputs": []
    },
    {
      "cell_type": "code",
      "source": [
        "len(df_left)"
      ],
      "metadata": {
        "id": "NK6eFYudcHYq"
      },
      "execution_count": null,
      "outputs": []
    },
    {
      "cell_type": "markdown",
      "source": [
        "さきほど、ID（1）であった箇所がNaNとなっており、データ数も8124と減っていないのが分かります。欠損値を確認してみると含まれていなかった4件となっています。"
      ],
      "metadata": {
        "id": "ZUEb9iUwIMOO"
      }
    },
    {
      "cell_type": "code",
      "source": [
        "df_left.isnull().sum()"
      ],
      "metadata": {
        "id": "p2EKacm0bR9w"
      },
      "execution_count": null,
      "outputs": []
    },
    {
      "cell_type": "markdown",
      "source": [
        "今回はdf2のIDがdf1に全て含まれているため、左外部結合と完全外部結合の内容は同じとなります。次にdropnaメソッドを使用して、外観データの欠損値を削除してモデルを構築してみます。外部結合をしてもどのみち欠損値は削除されるため、今回は、内部結合したDataFrameオブジェクトを代入したdfを使用します。"
      ],
      "metadata": {
        "id": "VIFz1KmQI3er"
      }
    },
    {
      "cell_type": "code",
      "source": [
        "df_drop = df.dropna()\n",
        "df_drop.head()"
      ],
      "metadata": {
        "id": "4sMYJ4gZWIwF"
      },
      "execution_count": null,
      "outputs": []
    },
    {
      "cell_type": "markdown",
      "source": [
        "それでは、結合したDataFrameオブジェクトの特徴量をダミー変数化します。今回は、新たに加わった匂い（odor）の列も含めます。"
      ],
      "metadata": {
        "id": "q7VelawYWVNg"
      }
    },
    {
      "cell_type": "code",
      "source": [
        "df_dummy = pd.get_dummies(df_drop[['cap_color', 'bruises', 'odor']], drop_first= True)"
      ],
      "metadata": {
        "id": "On9vMAQVNcu1"
      },
      "execution_count": null,
      "outputs": []
    },
    {
      "cell_type": "markdown",
      "source": [
        "変数xを特徴量、変数yにラベルを代入し、訓練データとテストデータに分離します。"
      ],
      "metadata": {
        "id": "ab6AiIoiXTYb"
      }
    },
    {
      "cell_type": "code",
      "source": [
        "from sklearn.model_selection import train_test_split\n",
        "\n",
        "x = df_dummy\n",
        "y = df_drop['poison']\n",
        "\n",
        "#訓練データとテストデータに分割\n",
        "x_train, x_test, y_train, y_test = train_test_split(x, y)"
      ],
      "metadata": {
        "id": "Qvsg5vCUW9Cc"
      },
      "execution_count": null,
      "outputs": []
    },
    {
      "cell_type": "markdown",
      "source": [
        "##3.3.モデルの構築と評価"
      ],
      "metadata": {
        "id": "1UQL4uAd4Jia"
      }
    },
    {
      "cell_type": "markdown",
      "source": [
        "あとはこれまで通りモデルを構築し、評価します。"
      ],
      "metadata": {
        "id": "KTt-FD-QXG6Y"
      }
    },
    {
      "cell_type": "code",
      "source": [
        "from sklearn.tree import  DecisionTreeClassifier\n",
        "model = DecisionTreeClassifier()\n",
        "model.fit(x_train, y_train)\n",
        "\n",
        "test_score = model.score(x_test, y_test)\n",
        "round(test_score, 3)"
      ],
      "metadata": {
        "id": "phCl9b3qNO2h"
      },
      "execution_count": null,
      "outputs": []
    },
    {
      "cell_type": "markdown",
      "source": [
        "正解率が9割以上となりました。外観データに匂いデータを結合したデータを利用してモデルを構築することで予測精度の向上につながりました。レベル３の内容は以上です。最後の演習問題では、結合様式の異なる方法で2つの表データを結合する演習に取り組み、結合したデータがどのように変わるかを確認し、結合様式の理解度を高めましょう。"
      ],
      "metadata": {
        "id": "oTk02kCtxSLw"
      }
    },
    {
      "cell_type": "markdown",
      "source": [
        "##3.4.演習問題"
      ],
      "metadata": {
        "id": "B0o-QNDv4Lrf"
      }
    },
    {
      "cell_type": "markdown",
      "source": [
        "レベル３の内容確認問題です。解答・解説は動画を参考にしてください。"
      ],
      "metadata": {
        "id": "X_XsslIcer7k"
      }
    },
    {
      "cell_type": "markdown",
      "source": [
        "問3-1.以下のTableAとBの2つがある場合、列名'column2'を基準に内部結合をすると何行のTableとなるか、pandasのDataFrameを使用して確かめてみてください。"
      ],
      "metadata": {
        "id": "l4tvwBu9OEpx"
      }
    },
    {
      "cell_type": "markdown",
      "source": [
        "TableA\n",
        "\n",
        "column1| column2\n",
        "------|------|\n",
        "1 | b |\n",
        "2 |  t |\n",
        "3 |  a |\n",
        "\n",
        "TableB\n",
        "\n",
        "column2 | column3\n",
        "------|------|\n",
        "a | 0.1 |\n",
        "b | 0.5 |\n",
        "c |  0.7 |"
      ],
      "metadata": {
        "id": "GUjAcMMwYoOG"
      }
    },
    {
      "cell_type": "markdown",
      "source": [
        "問3-2.問3-1で扱ったTableAとBの2つがある場合、列名'column2'を基準にTableAを左として左外部結合をすると何行のTableとなるか、pandasのDataFrameを使用して確かめてみてください。"
      ],
      "metadata": {
        "id": "dhHtABVrOLlO"
      }
    },
    {
      "cell_type": "markdown",
      "source": [
        "問3-3.問3-1で扱ったTableAとBの2つがある場合、列名'column2'を基準に完全外部結合をすると何行のTableとなるか、pandasのDataFrameを使用して確かめてみてください。"
      ],
      "metadata": {
        "id": "tEA4ERTLe1Cg"
      }
    },
    {
      "cell_type": "markdown",
      "source": [
        "問3-4.問3-3の完全外部結合したDataFrameオブジェクトの列名'column2'のデータのうち、何件のデータが問3-1の内部結合したDataFrameオブジェクトの列名'column2'のデータに含まれている数を確認してみてください。"
      ],
      "metadata": {
        "id": "Pyo6sBvXwRNx"
      }
    }
  ]
}