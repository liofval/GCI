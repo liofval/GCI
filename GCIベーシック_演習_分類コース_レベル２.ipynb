{
  "nbformat": 4,
  "nbformat_minor": 0,
  "metadata": {
    "colab": {
      "provenance": [],
      "include_colab_link": true
    },
    "kernelspec": {
      "name": "python3",
      "display_name": "Python 3"
    },
    "language_info": {
      "name": "python"
    }
  },
  "cells": [
    {
      "cell_type": "markdown",
      "metadata": {
        "id": "view-in-github",
        "colab_type": "text"
      },
      "source": [
        "<a href=\"https://colab.research.google.com/github/liofval/GCI/blob/main/GCI%E3%83%98%E3%82%99%E3%83%BC%E3%82%B7%E3%83%83%E3%82%AF_%E6%BC%94%E7%BF%92_%E5%88%86%E9%A1%9E%E3%82%B3%E3%83%BC%E3%82%B9_%E3%83%AC%E3%83%98%E3%82%99%E3%83%AB%EF%BC%92.ipynb\" target=\"_parent\"><img src=\"https://colab.research.google.com/assets/colab-badge.svg\" alt=\"Open In Colab\"/></a>"
      ]
    },
    {
      "cell_type": "markdown",
      "source": [
        "# **分類コース**\n",
        "\n",
        "\n",
        "---\n",
        "\n",
        "\n",
        "分類コースでは、**データのカテゴリーを予測する機械学習モデル「決定木」**を取り扱い、**「データの理解→データの前処理→モデルの構築・評価」**という一連の流れを通して、各レベルに応じてデータ分析に必要な知識の習得を目指します。"
      ],
      "metadata": {
        "id": "bamV9hK1xBQu"
      }
    },
    {
      "cell_type": "markdown",
      "source": [
        "#レベル２（★★☆☆☆）\n",
        "---\n",
        "レベル２では、欠損値を補完したデータを使用し、予測モデルを構築してみましょう。どのような値で欠損値を補完するのがよいのでしょうか。レベル２では、2つの方法で欠損値の補完を実践してみます。\n"
      ],
      "metadata": {
        "id": "sy09G8ap3A3I"
      }
    },
    {
      "cell_type": "markdown",
      "source": [
        "##2.1.データの理解①"
      ],
      "metadata": {
        "id": "TjCX4vva3EQ_"
      }
    },
    {
      "cell_type": "markdown",
      "source": [
        "レベル２の演習においても、レベル1で利用した「毒キノコの外観データ」を使用します。レベル１の復習もかねて、下記URLからダウンロードしてファイルを所定の位置にアップロードし、次のコードでデータフレームに読み込んでみましょう。\n",
        "\n",
        "\n",
        "[毒キノコの外観データ.csv](https://drive.google.com/file/d/18oIhPQ4iOYoVolKMjzt1Kyek0x_WhSEW/view?usp=drive_link)"
      ],
      "metadata": {
        "id": "NtTyxEKOEJwk"
      }
    },
    {
      "cell_type": "code",
      "source": [
        "#pandasのインポート\n",
        "import pandas as pd\n",
        "\n",
        "#CSVファイルの読み込み\n",
        "df = pd.read_csv('毒キノコの外観データ.csv')"
      ],
      "metadata": {
        "id": "OnM74WWrEuQa"
      },
      "execution_count": null,
      "outputs": []
    },
    {
      "cell_type": "markdown",
      "source": [
        "\n",
        "今回は、全データの特徴を1つの値で表す**代表値**について確認します。代表値とは、そのデータ分布の特徴を表す値を指し、**平均値**や**中央値**、**最頻値**（さいひんち）が代表値です。数値や順序のある量的データであれば、平均値や中央値が利用できますが、今回は質的データであるため、最頻値を利用して欠損値を補完します。最頻値とは、データの中でも最も多く現れる値を指します。\n",
        "\n",
        "DataFrameオブジェクトの特定列の代表値などの統計情報を調べたい場合、列を指定してSeriesオブジェクトを抽出し、さらに、describeメソッドを使用します。下のコードでは、欠損値のあるbruisesの列を抽出し、describeメソッドを使用して返ってくるSeriesオブジェクトを表示しています。"
      ],
      "metadata": {
        "id": "3W5IDWpzEIyv"
      }
    },
    {
      "cell_type": "code",
      "source": [
        "df['bruises'].describe()"
      ],
      "metadata": {
        "id": "3kbb9_GG3D24"
      },
      "execution_count": null,
      "outputs": []
    },
    {
      "cell_type": "markdown",
      "source": [
        "表示結果のインデックスにあるcountは欠損値を除くデータの個数、uniqueは種類の数、topは最頻値、freqは最頻値の数を示します。bruisesは、質的データのため、最頻値などの統計量が得られましたが、量的データの場合、平均値や中央値の代表値の他、標準偏差などの統計量も得られます。"
      ],
      "metadata": {
        "id": "oGO9Oa0hEB7F"
      }
    },
    {
      "cell_type": "code",
      "source": [
        "top = df['bruises'].describe()['top']\n",
        "top"
      ],
      "metadata": {
        "id": "iTzejw6m9x0n"
      },
      "execution_count": null,
      "outputs": []
    },
    {
      "cell_type": "markdown",
      "source": [
        "describeメソッドから返されるSeriesオブジェクトに対して、インデックスを角かっこで指定すると対応する値を参照できます。最頻値の場合、`['top']`と指定します。参照結果から全データにおいて`['bruises']`列では、斑点の無いデータ（N）が最も多いと分かります。"
      ],
      "metadata": {
        "id": "UY7571T83Muh"
      }
    },
    {
      "cell_type": "markdown",
      "source": [
        "##2.2.データの前処理①"
      ],
      "metadata": {
        "id": "wLAez4Ar3YJR"
      }
    },
    {
      "cell_type": "markdown",
      "source": [
        "代表値を使ってデータの前処理を実行します。レベル１では、欠損値があるときの対処法として、欠損値のある列ごと削除する方法と欠損値のある行だけ削除する方法を紹介しました。レベル２では、欠損値を削除するのではなく、代表値（最頻値）で補完します。補完方法には、そのまま欠損値の列の代表値で補完する方法や他の列を参照して補完する方法があります。"
      ],
      "metadata": {
        "id": "x2Uzu2aDxs1r"
      }
    },
    {
      "cell_type": "markdown",
      "source": [
        "**【欠損値処理】**\n",
        "\n",
        "*   欠損値の削除（レベル１★☆☆）\n",
        "    *   欠損列の削除\n",
        "    *   欠損行の削除\n",
        "*   欠損値の補完（レベル２★★☆）\n",
        "    *   欠損列の代表値で補完\n",
        "    *   欠損列以外の列を参照して補完"
      ],
      "metadata": {
        "id": "xDilLcx93dW6"
      }
    },
    {
      "cell_type": "markdown",
      "source": [
        "それでは、まず、欠損列の最頻値で補完してみましょう。欠損値の補完はDataFrameオブジェクトのfillnaメソッドを使用し、かっこ内に補完する値、今回は最頻値を代入します。isnullメソッドとsumメソッドを使用し、補完後、欠損値がないことを確認できます。fillnaメソッドを使用すると欠損値を埋めたDataFrameオブジェクトが返されるため、新たにdf_fillという変数に代入しています。"
      ],
      "metadata": {
        "id": "w1GS-30CHmab"
      }
    },
    {
      "cell_type": "code",
      "source": [
        "#最頻値で欠損値補完\n",
        "df_fill = df.fillna(top)\n",
        "#欠損値の数を確認\n",
        "df_fill.isnull().sum()"
      ],
      "metadata": {
        "id": "gROE_ls53f1a"
      },
      "execution_count": null,
      "outputs": []
    },
    {
      "cell_type": "markdown",
      "source": [
        "なお、fillnaメソッドでは、元のDataFrameオブジェクトからは欠損値は除かれません。元の変数dfに欠損値が残っているのを確認してみましょう。"
      ],
      "metadata": {
        "id": "bqSZicUxpi50"
      }
    },
    {
      "cell_type": "code",
      "source": [
        "#元のdfの欠損値数を確認\n",
        "df.isnull().sum()"
      ],
      "metadata": {
        "id": "4R6brHl7pjjU"
      },
      "execution_count": null,
      "outputs": []
    },
    {
      "cell_type": "markdown",
      "source": [
        "あとは、これまでどおり、ダミー変数化し、訓練データとテストデータに分割します。"
      ],
      "metadata": {
        "id": "KuUQ9AugIL-d"
      }
    },
    {
      "cell_type": "code",
      "source": [
        "df_dummy = pd.get_dummies(df_fill[['cap_color', 'bruises']], drop_first= True)\n",
        "\n",
        "x = df_dummy\n",
        "y = df_fill['poison']\n",
        "\n",
        "from sklearn.model_selection import train_test_split\n",
        "\n",
        "x_train, x_test, y_train, y_test = train_test_split(x, y)"
      ],
      "metadata": {
        "id": "agtOwKEuH_fv"
      },
      "execution_count": null,
      "outputs": []
    },
    {
      "cell_type": "markdown",
      "source": [
        ">**[訓練データとテストデータの分割するタイミング]**\n",
        ">\n",
        ">今回は、最頻値でデータを補完したのち、訓練データとテストデータに分割しました。しかし、これはあまり推奨されない方法です。なぜなら、分割前に最頻値で補完しているため、最頻値という情報は、テストデータからも得た情報となります。テストデータに含まれる情報で補完して予測精度を評価しても、未知のデータの正確な評価ではないため、精度を過大評価する可能性があるためです。今回の代表値の例では、先に分割しても後に分割しても、データに偏りがなければ最頻値が変わらないため、結果は同じとなります。しかし、実際のケースでは、テストデータの情報を利用しないように注意が必要です。"
      ],
      "metadata": {
        "id": "Nt75xAKdhrTi"
      }
    },
    {
      "cell_type": "markdown",
      "source": [
        "##2.3.モデルの構築と評価①"
      ],
      "metadata": {
        "id": "U_FJs2zD3h0m"
      }
    },
    {
      "cell_type": "markdown",
      "source": [
        "それでは、データの準備が整いましたので、これまでどおり、モデルの構築と評価をしてみましょう。"
      ],
      "metadata": {
        "id": "QoeP-05zI_Yx"
      }
    },
    {
      "cell_type": "code",
      "source": [
        "from sklearn.tree import  DecisionTreeClassifier\n",
        "model = DecisionTreeClassifier()\n",
        "model.fit(x_train, y_train)\n",
        "\n",
        "test_score = model.score(x_test, y_test)\n",
        "round(test_score, 3)"
      ],
      "metadata": {
        "id": "s7JUMCIh3j0O"
      },
      "execution_count": null,
      "outputs": []
    },
    {
      "cell_type": "markdown",
      "source": [
        "最頻値で補完した場合、欠損値のある行データを削除したときよりわずかに精度が下がってしまいましたが、欠損列を削除したときより精度が高いことが分かります。欠損値補完により、これから得られる未知のデータに欠損値が含まれていても予測が可能となりました。次に、欠損値のない他の特徴量も参照して欠損値を補完する方法を紹介します。"
      ],
      "metadata": {
        "id": "YPiTxNYTv9bg"
      }
    },
    {
      "cell_type": "markdown",
      "source": [
        "##2.4.データの理解②"
      ],
      "metadata": {
        "id": "aLK7nd8T3mmW"
      }
    },
    {
      "cell_type": "markdown",
      "source": [
        "前回は、全てのデータにおける最頻値で欠損値を補完しました。しかし、データによっては、特徴量同士に関係性を持つ可能性があります。例えば、白いキノコであれば斑点ありの傾向があるなどです。前回は、そのような関係を無視して欠損値を最頻値でいっかつに補完していました。今回は、色をグループに分けて斑点の最頻値を見てみましょう。"
      ],
      "metadata": {
        "id": "fdfNK2GAlYDo"
      }
    },
    {
      "cell_type": "markdown",
      "source": [
        "DataFrameオブジェクトのgroupbyメソッドを使用すると、特定の列に基づいて同じ値を持つ行をグループにまとめて計算できます。グループ分けしたい列をかっこ（）内に指定し、計算したい列をかっこの後ろに指定します。さらに、describeメソッドを使用すると各グループをインデックス、統計量をカラムに持つDataFrameオブジェクトが得られます。`['top']`としてカラム名を指定して各グループの最頻値を抽出した結果が以下の通りです。イメージは下図のとおりです。"
      ],
      "metadata": {
        "id": "BllQVwQT1Gl2"
      }
    },
    {
      "cell_type": "markdown",
      "source": [
        "![image.png](data:image/png;base64,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)"
      ],
      "metadata": {
        "id": "V_npJihZVv-z"
      }
    },
    {
      "cell_type": "code",
      "source": [
        "tops = df.groupby(['cap_color'])['bruises'].describe()['top']\n",
        "tops"
      ],
      "metadata": {
        "id": "ufgdQVhV3mYp"
      },
      "execution_count": null,
      "outputs": []
    },
    {
      "cell_type": "markdown",
      "source": [
        "集計の結果、キノコの色（cap_color）によって斑点の有無（bruisesの最頻値）が変わっているのが分かります。そこで、次の欠損値補完では、cap_colorの種類ごとに補完する最頻値を変えてみましょう。"
      ],
      "metadata": {
        "id": "MupRUEuLzM1q"
      }
    },
    {
      "cell_type": "markdown",
      "source": [
        "##2.5.データの前処理②"
      ],
      "metadata": {
        "id": "3T4iEVrf3qrh"
      }
    },
    {
      "cell_type": "markdown",
      "source": [
        "今回は、cap_colorの種類に応じて、欠損値のあるデータを補完する必要があります。DataFrameオブジェクトの特定行や特定の行と列を参照・代入するにはloc属性が使用できます。まず、欠損値のあるデータだけ抽出してみましょう。欠損行を抽出するには、loc属性の[]の中に、欠損値の真偽値のSeriesオブジェクトを渡します。欠損値の真偽値のSeriesオブジェクトは、isnullメソッドで確認できることをレベル1で紹介しました。違いとしては、今回は、データフレームの全ての列の欠損値を知りたいわけではないため、bruisesの列を指定したSeriesオブジェクトに対してisnullメソッドを使用しています。"
      ],
      "metadata": {
        "id": "PIG7Xngc0E0a"
      }
    },
    {
      "cell_type": "code",
      "source": [
        "is_null = df['bruises'].isnull()\n",
        "is_null.head()"
      ],
      "metadata": {
        "id": "QXLqfMIN0ipI"
      },
      "execution_count": null,
      "outputs": []
    },
    {
      "cell_type": "code",
      "source": [
        "df.loc[is_null].head()"
      ],
      "metadata": {
        "id": "2pTHc_ux39qD"
      },
      "execution_count": null,
      "outputs": []
    },
    {
      "cell_type": "markdown",
      "source": [
        "isnullメソッドでTrueと評価された欠損値の行だけloc属性で抽出できました。次に、cap_colorの色ごとに分けてデータを選択してみましょう。まず、最初の5行の色を確認します。"
      ],
      "metadata": {
        "id": "NyxLtez910A8"
      }
    },
    {
      "cell_type": "code",
      "source": [
        "df['cap_color'].head()"
      ],
      "metadata": {
        "id": "XnzH2Cwd_Uwd"
      },
      "execution_count": null,
      "outputs": []
    },
    {
      "cell_type": "markdown",
      "source": [
        "インデックス2と3の行がw（white）だと確認できます。"
      ],
      "metadata": {
        "id": "nNE7AEhx_bui"
      }
    },
    {
      "cell_type": "markdown",
      "source": [
        "まず、欠損値のときのようにその色と同じかどうかの真偽値のSeriesオブジェクトを作成し、その後にloc属性で抽出してみましょう。同じかどうかを比べるには、2つのイコール記号（`==`）の比較演算子を使用します。今回は、cap_colorの列を指定し、2つのイコール記号（==）を挟んで、比べたい色`'w'`（白色）を記入します。比較演算子の評価後、真偽値のSeriesオブジェクトとなり、変数is_whiteに代入されています。"
      ],
      "metadata": {
        "id": "9pnqDTMv_SNm"
      }
    },
    {
      "cell_type": "code",
      "source": [
        "is_white = df['cap_color'] == 'w'\n",
        "is_white.head()"
      ],
      "metadata": {
        "id": "1O5DFFA726zz"
      },
      "execution_count": null,
      "outputs": []
    },
    {
      "cell_type": "markdown",
      "source": [
        "whiteであった行だけ、Trueそれ以外はFalseと評価されます。欠損値のときのようにloc属性に真偽値のSeriesオブジェクトを渡すと、Trueのデータを抽出できます。"
      ],
      "metadata": {
        "id": "vbOpwe2m3bt-"
      }
    },
    {
      "cell_type": "code",
      "source": [
        "df.loc[is_white].head()"
      ],
      "metadata": {
        "id": "KK5DxPhEcMaD"
      },
      "execution_count": null,
      "outputs": []
    },
    {
      "cell_type": "markdown",
      "source": [
        "それでは、色と欠損値の条件を組み合わせて抽出してみましょう。2つの条件を同時に満たす場合は`&`記号を使用します。"
      ],
      "metadata": {
        "id": "fZHGtjiX4Qa2"
      }
    },
    {
      "cell_type": "code",
      "source": [
        "df.loc[is_null & is_white].head()"
      ],
      "metadata": {
        "id": "13p5bmyL4lEw"
      },
      "execution_count": null,
      "outputs": []
    },
    {
      "cell_type": "markdown",
      "source": [
        "なお、条件のどちらかを満たす場合は `|` 記号を使用します。2つの真偽値のSeriesオブジェクトAとB\n",
        "がある場合、以下のような結果となります。\n",
        "\n",
        "SeriesA| SeriesB |SeriesA & SeriesB| SeriesA \\| SeriesB\n",
        "------|------|--|--|\n",
        "True | True  |True|True|\n",
        "True | False  |False|True|\n",
        "False | True  |False|True|\n",
        "False | False  |False| False|"
      ],
      "metadata": {
        "id": "JMJdi5fr5YNc"
      }
    },
    {
      "cell_type": "markdown",
      "source": [
        "これでcap_colorがwhiteで欠損値のあるデータだけが抽出できました。さらに欠損値のある列だけ抽出したい場合は、loc属性の[]内にカンマを入れて、その後ろに列名を指定します。"
      ],
      "metadata": {
        "id": "G5CeIylE4kZL"
      }
    },
    {
      "cell_type": "code",
      "source": [
        "df.loc[is_white & is_null,'bruises'].head()"
      ],
      "metadata": {
        "id": "kMztXv6X5QTH"
      },
      "execution_count": null,
      "outputs": []
    },
    {
      "cell_type": "markdown",
      "source": [
        "欠損値のデータだけ抜き出すことができました。最後に欠損値に色のグループで分けた最頻値を代入します。代入する値は、変数topsに対して各インデックスを指定して参照した最頻値です。ここでは、色の条件確認をloc属性の中に入れてまとめています。この際、条件式はかっこで囲む必要があります。"
      ],
      "metadata": {
        "id": "vZisJvX057uh"
      }
    },
    {
      "cell_type": "code",
      "source": [
        "df.loc[(df['cap_color'] == 'b') & (is_null),'bruises'] = tops['b']\n",
        "df.loc[(df['cap_color'] == 'c') & (is_null),'bruises'] = tops['c']\n",
        "df.loc[(df['cap_color'] == 'e') & (is_null),'bruises'] = tops['e']\n",
        "df.loc[(df['cap_color'] == 'g') & (is_null),'bruises'] = tops['g']\n",
        "df.loc[(df['cap_color'] == 'n') & (is_null),'bruises'] = tops['n']\n",
        "df.loc[(df['cap_color'] == 'p') & (is_null),'bruises'] = tops['p']\n",
        "df.loc[(df['cap_color'] == 'r') & (is_null),'bruises'] = tops['r']\n",
        "df.loc[(df['cap_color'] == 'u') & (is_null),'bruises'] = tops['u']\n",
        "df.loc[(df['cap_color'] == 'w') & (is_null),'bruises'] = tops['w']\n",
        "df.loc[(df['cap_color'] == 'y') & (is_null),'bruises'] = tops['y']"
      ],
      "metadata": {
        "id": "rKBg_cg73tob"
      },
      "execution_count": null,
      "outputs": []
    },
    {
      "cell_type": "markdown",
      "source": [
        "あとは、これまで通り、データを訓練データとテストデータに分割し、モデルを学習させましょう。"
      ],
      "metadata": {
        "id": "0MiMzdkB6qpz"
      }
    },
    {
      "cell_type": "code",
      "source": [
        "df_dummy = pd.get_dummies(df[['cap_color', 'bruises']], drop_first= True)\n",
        "\n",
        "x = df_dummy\n",
        "y = df['poison']\n",
        "\n",
        "x_train, x_test, y_train, y_test = train_test_split(x, y)"
      ],
      "metadata": {
        "id": "_dWSolsh3ww0"
      },
      "execution_count": null,
      "outputs": []
    },
    {
      "cell_type": "markdown",
      "source": [
        "##2.6. モデルの構築と評価②"
      ],
      "metadata": {
        "id": "SlVBkpwt3yx2"
      }
    },
    {
      "cell_type": "markdown",
      "source": [
        "学習方法はこれまでと同じです。"
      ],
      "metadata": {
        "id": "e7xcwfjp7Ef1"
      }
    },
    {
      "cell_type": "code",
      "source": [
        "model = DecisionTreeClassifier()\n",
        "model.fit(x_train, y_train)\n",
        "\n",
        "test_score = model.score(x_test, y_test)\n",
        "round(test_score, 3)"
      ],
      "metadata": {
        "id": "KMJzKiSM30bs"
      },
      "execution_count": null,
      "outputs": []
    },
    {
      "cell_type": "markdown",
      "source": [
        "今回は、欠損値補完の方法による変化はありませんでしたが、データによって変わる可能性があります。また、今回は取り扱いませんでしたが、欠損値をラベルとして予測するという方法もあります。つまり、決定木を2回利用して、予測することになります。以上で欠損値処理の内容は終了です。次のレベルでは、データの結合について扱います。"
      ],
      "metadata": {
        "id": "BzTBF2h7oPx2"
      }
    },
    {
      "cell_type": "markdown",
      "source": [
        "##2.7.演習問題"
      ],
      "metadata": {
        "id": "GsSH1tZS36Qv"
      }
    },
    {
      "cell_type": "markdown",
      "source": [
        "問2-1.レベル1で扱った「分類コースLv1演習データ.csv」をダウンロードしてファイルをアップロードし、pandasのデータフレームとして読み込んでください。読み込んだデータの最初の5行のデータを表示して確認してください。\n",
        "\n",
        "[分類コースLv1演習データ.csv](https://drive.google.com/file/d/1Hn5ql5e1apq8JFh8VitXEG_s4wb9V0ar/view?usp=drive_link)"
      ],
      "metadata": {
        "id": "i16solS3L9SU"
      }
    },
    {
      "cell_type": "markdown",
      "source": [
        "問2-2.欠損値の量を確認してください"
      ],
      "metadata": {
        "id": "IXXOtXyIMFXa"
      }
    },
    {
      "cell_type": "markdown",
      "source": [
        "問2-3.列名columns1の最頻値を確認してください。"
      ],
      "metadata": {
        "id": "Y0KFJpxmMLlk"
      }
    },
    {
      "cell_type": "markdown",
      "source": [
        "問2-4.上で確認した最頻値で欠損値を補完したデータフレームをdf_fill変数に代入してください。"
      ],
      "metadata": {
        "id": "19s4znJWMLjA"
      }
    },
    {
      "cell_type": "markdown",
      "source": [
        "問2-5.列名columns2のグループに分けて列名columns1の最頻値を確認してください。"
      ],
      "metadata": {
        "id": "IuuErrzRNKFF"
      }
    },
    {
      "cell_type": "markdown",
      "source": [
        "問2-6.上の問で確認したcolumns2のグループごとに分けてcolumns1の最頻値で欠損値を補完してください。"
      ],
      "metadata": {
        "id": "klVgxNnGNMb8"
      }
    }
  ]
}