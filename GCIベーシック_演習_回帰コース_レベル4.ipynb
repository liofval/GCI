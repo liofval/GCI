{
  "nbformat": 4,
  "nbformat_minor": 0,
  "metadata": {
    "colab": {
      "provenance": [],
      "include_colab_link": true
    },
    "kernelspec": {
      "name": "python3",
      "display_name": "Python 3"
    },
    "language_info": {
      "name": "python"
    }
  },
  "cells": [
    {
      "cell_type": "markdown",
      "metadata": {
        "id": "view-in-github",
        "colab_type": "text"
      },
      "source": [
        "<a href=\"https://colab.research.google.com/github/liofval/GCI/blob/main/GCI%E3%83%98%E3%82%99%E3%83%BC%E3%82%B7%E3%83%83%E3%82%AF_%E6%BC%94%E7%BF%92_%E5%9B%9E%E5%B8%B0%E3%82%B3%E3%83%BC%E3%82%B9_%E3%83%AC%E3%83%98%E3%82%99%E3%83%AB4.ipynb\" target=\"_parent\"><img src=\"https://colab.research.google.com/assets/colab-badge.svg\" alt=\"Open In Colab\"/></a>"
      ]
    },
    {
      "cell_type": "markdown",
      "source": [
        "#**回帰コース**\n",
        "\n",
        "\n",
        "---\n",
        "\n",
        "\n",
        "回帰コースでは、**数値を予測する機械学習モデル「線形回帰」**を取り扱い、**「データの理解→データの前処理→モデルの構築・評価」**という一連の流れを通して、各レベルに応じてデータ分析に必要な知識の習得を目指します。"
      ],
      "metadata": {
        "id": "-VdLN638LJ3H"
      }
    },
    {
      "cell_type": "markdown",
      "source": [
        "#レベル4（★★★★）\n",
        "\n",
        "\n",
        "\n",
        "\n",
        "\n",
        "---\n",
        "レベル4では、標準化したデータでモデルを学習し、予測をします。"
      ],
      "metadata": {
        "id": "fWsa9vmrFIL9"
      }
    },
    {
      "cell_type": "markdown",
      "source": [
        "##4.1.データの前処理\n",
        "\n",
        "これまで通り、以下のリンクから自動車価格のデータをダウンロードし、所定の位置にアップロードし、ファイルをデータフレームに読み込んで欠損値を削除しましょう。\n",
        "\n",
        "[自動車価格Data.csv](https://drive.google.com/file/d/10gmRMbUVuDF8osJGdIop2b58PWDh7ezp/view?usp=drive_link)"
      ],
      "metadata": {
        "id": "Bb62nHI1dR1G"
      }
    },
    {
      "cell_type": "code",
      "source": [
        "import pandas as pd\n",
        "\n",
        "df = pd.read_csv('自動車価格Data.csv')\n",
        "df = df.dropna()"
      ],
      "metadata": {
        "id": "RBRiznbwuhP1"
      },
      "execution_count": null,
      "outputs": []
    },
    {
      "cell_type": "markdown",
      "source": [
        "例えば、説明変数間で単位や大きさが異なる場合、各変数のうちどの変数がモデルの予測に有効であったか評価できなくなります。例えば、線形回帰では回帰係数の大小が意味を持たなくなってしまいます。kg表記のものがg表記になるだけで、回帰係数も変わってしまいます。"
      ],
      "metadata": {
        "id": "bZHudaANdU1M"
      }
    },
    {
      "cell_type": "markdown",
      "source": [
        "そこで、**標準化**と呼ばれる数値のスケーリングを行うことで、変数間の大小関係を無くし、モデルの解釈性を向上させます。\n",
        "\n",
        "標準化を実施するには、各データに対して、その変数列の平均を引き、標準偏差で割ります。そうすることで、各説明変数が平均０、標準偏差１となるような分布を取ることになります。\n",
        "\n",
        "具体的には、以下のような式で計算されます。ただし $\\mu_x$ と $\\sigma_x$ はそれぞれ 各データ$x$ の平均値と標準偏差です。\n",
        "\\begin{equation}\n",
        "x_{std} = \\cfrac{x - \\mu_x}{\\sigma_x}\n",
        "\\end{equation}\n",
        "\n",
        "データを標準化するには`sklearn.preprocessing`の`StandardScaler`クラスを使用します。実際に先ほどの自動車価格データを使用して、標準化の方法について見てみましょう。"
      ],
      "metadata": {
        "id": "xKivHi0Us3ql"
      }
    },
    {
      "cell_type": "markdown",
      "source": [
        "説明変数である`engine-size` 、`curb-weight`、`city-mpg`の平均値と標準偏差を見ると、スケールがバラバラになっていることがわかります。このままだとモデルの解釈ができません。"
      ],
      "metadata": {
        "id": "32l5nUF7jISF"
      }
    },
    {
      "cell_type": "code",
      "source": [
        "df[['engine-size', 'curb-weight', 'city-mpg']].describe().loc[['mean', 'std']]"
      ],
      "metadata": {
        "id": "YeNaaFJGhDdq",
        "colab": {
          "base_uri": "https://localhost:8080/",
          "height": 112
        },
        "outputId": "b0d500e3-0fc7-49fe-8690-5659eb5d8781"
      },
      "execution_count": null,
      "outputs": [
        {
          "output_type": "execute_result",
          "data": {
            "text/plain": [
              "      engine-size  curb-weight   city-mpg\n",
              "mean   126.875622  2555.666667  25.179104\n",
              "std     41.546834   517.296727   6.423220"
            ],
            "text/html": [
              "\n",
              "  <div id=\"df-2f919f82-418f-43d6-8f67-286e4b717b40\" class=\"colab-df-container\">\n",
              "    <div>\n",
              "<style scoped>\n",
              "    .dataframe tbody tr th:only-of-type {\n",
              "        vertical-align: middle;\n",
              "    }\n",
              "\n",
              "    .dataframe tbody tr th {\n",
              "        vertical-align: top;\n",
              "    }\n",
              "\n",
              "    .dataframe thead th {\n",
              "        text-align: right;\n",
              "    }\n",
              "</style>\n",
              "<table border=\"1\" class=\"dataframe\">\n",
              "  <thead>\n",
              "    <tr style=\"text-align: right;\">\n",
              "      <th></th>\n",
              "      <th>engine-size</th>\n",
              "      <th>curb-weight</th>\n",
              "      <th>city-mpg</th>\n",
              "    </tr>\n",
              "  </thead>\n",
              "  <tbody>\n",
              "    <tr>\n",
              "      <th>mean</th>\n",
              "      <td>126.875622</td>\n",
              "      <td>2555.666667</td>\n",
              "      <td>25.179104</td>\n",
              "    </tr>\n",
              "    <tr>\n",
              "      <th>std</th>\n",
              "      <td>41.546834</td>\n",
              "      <td>517.296727</td>\n",
              "      <td>6.423220</td>\n",
              "    </tr>\n",
              "  </tbody>\n",
              "</table>\n",
              "</div>\n",
              "    <div class=\"colab-df-buttons\">\n",
              "\n",
              "  <div class=\"colab-df-container\">\n",
              "    <button class=\"colab-df-convert\" onclick=\"convertToInteractive('df-2f919f82-418f-43d6-8f67-286e4b717b40')\"\n",
              "            title=\"Convert this dataframe to an interactive table.\"\n",
              "            style=\"display:none;\">\n",
              "\n",
              "  <svg xmlns=\"http://www.w3.org/2000/svg\" height=\"24px\" viewBox=\"0 -960 960 960\">\n",
              "    <path d=\"M120-120v-720h720v720H120Zm60-500h600v-160H180v160Zm220 220h160v-160H400v160Zm0 220h160v-160H400v160ZM180-400h160v-160H180v160Zm440 0h160v-160H620v160ZM180-180h160v-160H180v160Zm440 0h160v-160H620v160Z\"/>\n",
              "  </svg>\n",
              "    </button>\n",
              "\n",
              "  <style>\n",
              "    .colab-df-container {\n",
              "      display:flex;\n",
              "      gap: 12px;\n",
              "    }\n",
              "\n",
              "    .colab-df-convert {\n",
              "      background-color: #E8F0FE;\n",
              "      border: none;\n",
              "      border-radius: 50%;\n",
              "      cursor: pointer;\n",
              "      display: none;\n",
              "      fill: #1967D2;\n",
              "      height: 32px;\n",
              "      padding: 0 0 0 0;\n",
              "      width: 32px;\n",
              "    }\n",
              "\n",
              "    .colab-df-convert:hover {\n",
              "      background-color: #E2EBFA;\n",
              "      box-shadow: 0px 1px 2px rgba(60, 64, 67, 0.3), 0px 1px 3px 1px rgba(60, 64, 67, 0.15);\n",
              "      fill: #174EA6;\n",
              "    }\n",
              "\n",
              "    .colab-df-buttons div {\n",
              "      margin-bottom: 4px;\n",
              "    }\n",
              "\n",
              "    [theme=dark] .colab-df-convert {\n",
              "      background-color: #3B4455;\n",
              "      fill: #D2E3FC;\n",
              "    }\n",
              "\n",
              "    [theme=dark] .colab-df-convert:hover {\n",
              "      background-color: #434B5C;\n",
              "      box-shadow: 0px 1px 3px 1px rgba(0, 0, 0, 0.15);\n",
              "      filter: drop-shadow(0px 1px 2px rgba(0, 0, 0, 0.3));\n",
              "      fill: #FFFFFF;\n",
              "    }\n",
              "  </style>\n",
              "\n",
              "    <script>\n",
              "      const buttonEl =\n",
              "        document.querySelector('#df-2f919f82-418f-43d6-8f67-286e4b717b40 button.colab-df-convert');\n",
              "      buttonEl.style.display =\n",
              "        google.colab.kernel.accessAllowed ? 'block' : 'none';\n",
              "\n",
              "      async function convertToInteractive(key) {\n",
              "        const element = document.querySelector('#df-2f919f82-418f-43d6-8f67-286e4b717b40');\n",
              "        const dataTable =\n",
              "          await google.colab.kernel.invokeFunction('convertToInteractive',\n",
              "                                                    [key], {});\n",
              "        if (!dataTable) return;\n",
              "\n",
              "        const docLinkHtml = 'Like what you see? Visit the ' +\n",
              "          '<a target=\"_blank\" href=https://colab.research.google.com/notebooks/data_table.ipynb>data table notebook</a>'\n",
              "          + ' to learn more about interactive tables.';\n",
              "        element.innerHTML = '';\n",
              "        dataTable['output_type'] = 'display_data';\n",
              "        await google.colab.output.renderOutput(dataTable, element);\n",
              "        const docLink = document.createElement('div');\n",
              "        docLink.innerHTML = docLinkHtml;\n",
              "        element.appendChild(docLink);\n",
              "      }\n",
              "    </script>\n",
              "  </div>\n",
              "\n",
              "\n",
              "<div id=\"df-270c0ccc-14f7-46f4-bd82-67b310fd5334\">\n",
              "  <button class=\"colab-df-quickchart\" onclick=\"quickchart('df-270c0ccc-14f7-46f4-bd82-67b310fd5334')\"\n",
              "            title=\"Suggest charts\"\n",
              "            style=\"display:none;\">\n",
              "\n",
              "<svg xmlns=\"http://www.w3.org/2000/svg\" height=\"24px\"viewBox=\"0 0 24 24\"\n",
              "     width=\"24px\">\n",
              "    <g>\n",
              "        <path d=\"M19 3H5c-1.1 0-2 .9-2 2v14c0 1.1.9 2 2 2h14c1.1 0 2-.9 2-2V5c0-1.1-.9-2-2-2zM9 17H7v-7h2v7zm4 0h-2V7h2v10zm4 0h-2v-4h2v4z\"/>\n",
              "    </g>\n",
              "</svg>\n",
              "  </button>\n",
              "\n",
              "<style>\n",
              "  .colab-df-quickchart {\n",
              "      --bg-color: #E8F0FE;\n",
              "      --fill-color: #1967D2;\n",
              "      --hover-bg-color: #E2EBFA;\n",
              "      --hover-fill-color: #174EA6;\n",
              "      --disabled-fill-color: #AAA;\n",
              "      --disabled-bg-color: #DDD;\n",
              "  }\n",
              "\n",
              "  [theme=dark] .colab-df-quickchart {\n",
              "      --bg-color: #3B4455;\n",
              "      --fill-color: #D2E3FC;\n",
              "      --hover-bg-color: #434B5C;\n",
              "      --hover-fill-color: #FFFFFF;\n",
              "      --disabled-bg-color: #3B4455;\n",
              "      --disabled-fill-color: #666;\n",
              "  }\n",
              "\n",
              "  .colab-df-quickchart {\n",
              "    background-color: var(--bg-color);\n",
              "    border: none;\n",
              "    border-radius: 50%;\n",
              "    cursor: pointer;\n",
              "    display: none;\n",
              "    fill: var(--fill-color);\n",
              "    height: 32px;\n",
              "    padding: 0;\n",
              "    width: 32px;\n",
              "  }\n",
              "\n",
              "  .colab-df-quickchart:hover {\n",
              "    background-color: var(--hover-bg-color);\n",
              "    box-shadow: 0 1px 2px rgba(60, 64, 67, 0.3), 0 1px 3px 1px rgba(60, 64, 67, 0.15);\n",
              "    fill: var(--button-hover-fill-color);\n",
              "  }\n",
              "\n",
              "  .colab-df-quickchart-complete:disabled,\n",
              "  .colab-df-quickchart-complete:disabled:hover {\n",
              "    background-color: var(--disabled-bg-color);\n",
              "    fill: var(--disabled-fill-color);\n",
              "    box-shadow: none;\n",
              "  }\n",
              "\n",
              "  .colab-df-spinner {\n",
              "    border: 2px solid var(--fill-color);\n",
              "    border-color: transparent;\n",
              "    border-bottom-color: var(--fill-color);\n",
              "    animation:\n",
              "      spin 1s steps(1) infinite;\n",
              "  }\n",
              "\n",
              "  @keyframes spin {\n",
              "    0% {\n",
              "      border-color: transparent;\n",
              "      border-bottom-color: var(--fill-color);\n",
              "      border-left-color: var(--fill-color);\n",
              "    }\n",
              "    20% {\n",
              "      border-color: transparent;\n",
              "      border-left-color: var(--fill-color);\n",
              "      border-top-color: var(--fill-color);\n",
              "    }\n",
              "    30% {\n",
              "      border-color: transparent;\n",
              "      border-left-color: var(--fill-color);\n",
              "      border-top-color: var(--fill-color);\n",
              "      border-right-color: var(--fill-color);\n",
              "    }\n",
              "    40% {\n",
              "      border-color: transparent;\n",
              "      border-right-color: var(--fill-color);\n",
              "      border-top-color: var(--fill-color);\n",
              "    }\n",
              "    60% {\n",
              "      border-color: transparent;\n",
              "      border-right-color: var(--fill-color);\n",
              "    }\n",
              "    80% {\n",
              "      border-color: transparent;\n",
              "      border-right-color: var(--fill-color);\n",
              "      border-bottom-color: var(--fill-color);\n",
              "    }\n",
              "    90% {\n",
              "      border-color: transparent;\n",
              "      border-bottom-color: var(--fill-color);\n",
              "    }\n",
              "  }\n",
              "</style>\n",
              "\n",
              "  <script>\n",
              "    async function quickchart(key) {\n",
              "      const quickchartButtonEl =\n",
              "        document.querySelector('#' + key + ' button');\n",
              "      quickchartButtonEl.disabled = true;  // To prevent multiple clicks.\n",
              "      quickchartButtonEl.classList.add('colab-df-spinner');\n",
              "      try {\n",
              "        const charts = await google.colab.kernel.invokeFunction(\n",
              "            'suggestCharts', [key], {});\n",
              "      } catch (error) {\n",
              "        console.error('Error during call to suggestCharts:', error);\n",
              "      }\n",
              "      quickchartButtonEl.classList.remove('colab-df-spinner');\n",
              "      quickchartButtonEl.classList.add('colab-df-quickchart-complete');\n",
              "    }\n",
              "    (() => {\n",
              "      let quickchartButtonEl =\n",
              "        document.querySelector('#df-270c0ccc-14f7-46f4-bd82-67b310fd5334 button');\n",
              "      quickchartButtonEl.style.display =\n",
              "        google.colab.kernel.accessAllowed ? 'block' : 'none';\n",
              "    })();\n",
              "  </script>\n",
              "</div>\n",
              "\n",
              "    </div>\n",
              "  </div>\n"
            ],
            "application/vnd.google.colaboratory.intrinsic+json": {
              "type": "dataframe",
              "summary": "{\n  \"name\": \"df[['engine-size', 'curb-weight', 'city-mpg']]\",\n  \"rows\": 2,\n  \"fields\": [\n    {\n      \"column\": \"engine-size\",\n      \"properties\": {\n        \"dtype\": \"number\",\n        \"std\": 60.33656423031207,\n        \"min\": 41.54683444904457,\n        \"max\": 126.87562189054727,\n        \"num_unique_values\": 2,\n        \"samples\": [\n          41.54683444904457,\n          126.87562189054727\n        ],\n        \"semantic_type\": \"\",\n        \"description\": \"\"\n      }\n    },\n    {\n      \"column\": \"curb-weight\",\n      \"properties\": {\n        \"dtype\": \"number\",\n        \"std\": 1441.3452072000819,\n        \"min\": 517.2967265828518,\n        \"max\": 2555.6666666666665,\n        \"num_unique_values\": 2,\n        \"samples\": [\n          517.2967265828518,\n          2555.6666666666665\n        ],\n        \"semantic_type\": \"\",\n        \"description\": \"\"\n      }\n    },\n    {\n      \"column\": \"city-mpg\",\n      \"properties\": {\n        \"dtype\": \"number\",\n        \"std\": 13.262412769602092,\n        \"min\": 6.4232204690505394,\n        \"max\": 25.17910447761194,\n        \"num_unique_values\": 2,\n        \"samples\": [\n          6.4232204690505394,\n          25.17910447761194\n        ],\n        \"semantic_type\": \"\",\n        \"description\": \"\"\n      }\n    }\n  ]\n}"
            }
          },
          "metadata": {},
          "execution_count": 111
        }
      ]
    },
    {
      "cell_type": "markdown",
      "source": [
        "そこで、以下のように標準化を施します。`fit`メソッドは、データの平均値と標準偏差を計算します。`transform`メソッドは、すでに計算された平均値と標準偏差を使用して、データを標準化します。"
      ],
      "metadata": {
        "id": "AtU_21bJjna-"
      }
    },
    {
      "cell_type": "code",
      "source": [
        "from sklearn.preprocessing import StandardScaler\n",
        "\n",
        "X = df[['engine-size', 'curb-weight', 'city-mpg']]\n",
        "\n",
        "ss = StandardScaler()\n",
        "ss.fit(X)\n",
        "X_std = ss.transform(X)\n",
        "\n",
        "# fitとtransformは以下のようにまとめられる\n",
        "# X_std = ss.fit_transform(X)\n",
        "\n",
        "df[['engine-size std', 'curb-weight std', 'city-mpg std']] = X_std"
      ],
      "metadata": {
        "id": "TnfbRJ4Jit62"
      },
      "execution_count": null,
      "outputs": []
    },
    {
      "cell_type": "markdown",
      "source": [
        "すると以下のように標準化によって、各説明変数の平均値が０、標準偏差が１となり、スケールが揃いました。今回は外れ値は除去していませんが、標準化も外れ値の影響を受けるので、本来は外れ値除去を行なってから標準化を行った方が良いです。"
      ],
      "metadata": {
        "id": "YpusnF-olBDW"
      }
    },
    {
      "cell_type": "code",
      "source": [
        "df[['engine-size std', 'curb-weight std', 'city-mpg std']].describe().loc[['mean', 'std']]"
      ],
      "metadata": {
        "id": "_St2LSbNj8DE",
        "colab": {
          "base_uri": "https://localhost:8080/",
          "height": 112
        },
        "outputId": "0d2c2150-cb2c-4622-9992-18178132aed0"
      },
      "execution_count": null,
      "outputs": [
        {
          "output_type": "execute_result",
          "data": {
            "text/plain": [
              "      engine-size std  curb-weight std  city-mpg std\n",
              "mean    -3.755978e-17     3.004783e-16  5.302558e-17\n",
              "std      1.002497e+00     1.002497e+00  1.002497e+00"
            ],
            "text/html": [
              "\n",
              "  <div id=\"df-a9986b22-c42c-4e9b-83b6-788fa9193ae9\" class=\"colab-df-container\">\n",
              "    <div>\n",
              "<style scoped>\n",
              "    .dataframe tbody tr th:only-of-type {\n",
              "        vertical-align: middle;\n",
              "    }\n",
              "\n",
              "    .dataframe tbody tr th {\n",
              "        vertical-align: top;\n",
              "    }\n",
              "\n",
              "    .dataframe thead th {\n",
              "        text-align: right;\n",
              "    }\n",
              "</style>\n",
              "<table border=\"1\" class=\"dataframe\">\n",
              "  <thead>\n",
              "    <tr style=\"text-align: right;\">\n",
              "      <th></th>\n",
              "      <th>engine-size std</th>\n",
              "      <th>curb-weight std</th>\n",
              "      <th>city-mpg std</th>\n",
              "    </tr>\n",
              "  </thead>\n",
              "  <tbody>\n",
              "    <tr>\n",
              "      <th>mean</th>\n",
              "      <td>-3.755978e-17</td>\n",
              "      <td>3.004783e-16</td>\n",
              "      <td>5.302558e-17</td>\n",
              "    </tr>\n",
              "    <tr>\n",
              "      <th>std</th>\n",
              "      <td>1.002497e+00</td>\n",
              "      <td>1.002497e+00</td>\n",
              "      <td>1.002497e+00</td>\n",
              "    </tr>\n",
              "  </tbody>\n",
              "</table>\n",
              "</div>\n",
              "    <div class=\"colab-df-buttons\">\n",
              "\n",
              "  <div class=\"colab-df-container\">\n",
              "    <button class=\"colab-df-convert\" onclick=\"convertToInteractive('df-a9986b22-c42c-4e9b-83b6-788fa9193ae9')\"\n",
              "            title=\"Convert this dataframe to an interactive table.\"\n",
              "            style=\"display:none;\">\n",
              "\n",
              "  <svg xmlns=\"http://www.w3.org/2000/svg\" height=\"24px\" viewBox=\"0 -960 960 960\">\n",
              "    <path d=\"M120-120v-720h720v720H120Zm60-500h600v-160H180v160Zm220 220h160v-160H400v160Zm0 220h160v-160H400v160ZM180-400h160v-160H180v160Zm440 0h160v-160H620v160ZM180-180h160v-160H180v160Zm440 0h160v-160H620v160Z\"/>\n",
              "  </svg>\n",
              "    </button>\n",
              "\n",
              "  <style>\n",
              "    .colab-df-container {\n",
              "      display:flex;\n",
              "      gap: 12px;\n",
              "    }\n",
              "\n",
              "    .colab-df-convert {\n",
              "      background-color: #E8F0FE;\n",
              "      border: none;\n",
              "      border-radius: 50%;\n",
              "      cursor: pointer;\n",
              "      display: none;\n",
              "      fill: #1967D2;\n",
              "      height: 32px;\n",
              "      padding: 0 0 0 0;\n",
              "      width: 32px;\n",
              "    }\n",
              "\n",
              "    .colab-df-convert:hover {\n",
              "      background-color: #E2EBFA;\n",
              "      box-shadow: 0px 1px 2px rgba(60, 64, 67, 0.3), 0px 1px 3px 1px rgba(60, 64, 67, 0.15);\n",
              "      fill: #174EA6;\n",
              "    }\n",
              "\n",
              "    .colab-df-buttons div {\n",
              "      margin-bottom: 4px;\n",
              "    }\n",
              "\n",
              "    [theme=dark] .colab-df-convert {\n",
              "      background-color: #3B4455;\n",
              "      fill: #D2E3FC;\n",
              "    }\n",
              "\n",
              "    [theme=dark] .colab-df-convert:hover {\n",
              "      background-color: #434B5C;\n",
              "      box-shadow: 0px 1px 3px 1px rgba(0, 0, 0, 0.15);\n",
              "      filter: drop-shadow(0px 1px 2px rgba(0, 0, 0, 0.3));\n",
              "      fill: #FFFFFF;\n",
              "    }\n",
              "  </style>\n",
              "\n",
              "    <script>\n",
              "      const buttonEl =\n",
              "        document.querySelector('#df-a9986b22-c42c-4e9b-83b6-788fa9193ae9 button.colab-df-convert');\n",
              "      buttonEl.style.display =\n",
              "        google.colab.kernel.accessAllowed ? 'block' : 'none';\n",
              "\n",
              "      async function convertToInteractive(key) {\n",
              "        const element = document.querySelector('#df-a9986b22-c42c-4e9b-83b6-788fa9193ae9');\n",
              "        const dataTable =\n",
              "          await google.colab.kernel.invokeFunction('convertToInteractive',\n",
              "                                                    [key], {});\n",
              "        if (!dataTable) return;\n",
              "\n",
              "        const docLinkHtml = 'Like what you see? Visit the ' +\n",
              "          '<a target=\"_blank\" href=https://colab.research.google.com/notebooks/data_table.ipynb>data table notebook</a>'\n",
              "          + ' to learn more about interactive tables.';\n",
              "        element.innerHTML = '';\n",
              "        dataTable['output_type'] = 'display_data';\n",
              "        await google.colab.output.renderOutput(dataTable, element);\n",
              "        const docLink = document.createElement('div');\n",
              "        docLink.innerHTML = docLinkHtml;\n",
              "        element.appendChild(docLink);\n",
              "      }\n",
              "    </script>\n",
              "  </div>\n",
              "\n",
              "\n",
              "<div id=\"df-54799202-ce63-469d-9739-e0d444bf9e56\">\n",
              "  <button class=\"colab-df-quickchart\" onclick=\"quickchart('df-54799202-ce63-469d-9739-e0d444bf9e56')\"\n",
              "            title=\"Suggest charts\"\n",
              "            style=\"display:none;\">\n",
              "\n",
              "<svg xmlns=\"http://www.w3.org/2000/svg\" height=\"24px\"viewBox=\"0 0 24 24\"\n",
              "     width=\"24px\">\n",
              "    <g>\n",
              "        <path d=\"M19 3H5c-1.1 0-2 .9-2 2v14c0 1.1.9 2 2 2h14c1.1 0 2-.9 2-2V5c0-1.1-.9-2-2-2zM9 17H7v-7h2v7zm4 0h-2V7h2v10zm4 0h-2v-4h2v4z\"/>\n",
              "    </g>\n",
              "</svg>\n",
              "  </button>\n",
              "\n",
              "<style>\n",
              "  .colab-df-quickchart {\n",
              "      --bg-color: #E8F0FE;\n",
              "      --fill-color: #1967D2;\n",
              "      --hover-bg-color: #E2EBFA;\n",
              "      --hover-fill-color: #174EA6;\n",
              "      --disabled-fill-color: #AAA;\n",
              "      --disabled-bg-color: #DDD;\n",
              "  }\n",
              "\n",
              "  [theme=dark] .colab-df-quickchart {\n",
              "      --bg-color: #3B4455;\n",
              "      --fill-color: #D2E3FC;\n",
              "      --hover-bg-color: #434B5C;\n",
              "      --hover-fill-color: #FFFFFF;\n",
              "      --disabled-bg-color: #3B4455;\n",
              "      --disabled-fill-color: #666;\n",
              "  }\n",
              "\n",
              "  .colab-df-quickchart {\n",
              "    background-color: var(--bg-color);\n",
              "    border: none;\n",
              "    border-radius: 50%;\n",
              "    cursor: pointer;\n",
              "    display: none;\n",
              "    fill: var(--fill-color);\n",
              "    height: 32px;\n",
              "    padding: 0;\n",
              "    width: 32px;\n",
              "  }\n",
              "\n",
              "  .colab-df-quickchart:hover {\n",
              "    background-color: var(--hover-bg-color);\n",
              "    box-shadow: 0 1px 2px rgba(60, 64, 67, 0.3), 0 1px 3px 1px rgba(60, 64, 67, 0.15);\n",
              "    fill: var(--button-hover-fill-color);\n",
              "  }\n",
              "\n",
              "  .colab-df-quickchart-complete:disabled,\n",
              "  .colab-df-quickchart-complete:disabled:hover {\n",
              "    background-color: var(--disabled-bg-color);\n",
              "    fill: var(--disabled-fill-color);\n",
              "    box-shadow: none;\n",
              "  }\n",
              "\n",
              "  .colab-df-spinner {\n",
              "    border: 2px solid var(--fill-color);\n",
              "    border-color: transparent;\n",
              "    border-bottom-color: var(--fill-color);\n",
              "    animation:\n",
              "      spin 1s steps(1) infinite;\n",
              "  }\n",
              "\n",
              "  @keyframes spin {\n",
              "    0% {\n",
              "      border-color: transparent;\n",
              "      border-bottom-color: var(--fill-color);\n",
              "      border-left-color: var(--fill-color);\n",
              "    }\n",
              "    20% {\n",
              "      border-color: transparent;\n",
              "      border-left-color: var(--fill-color);\n",
              "      border-top-color: var(--fill-color);\n",
              "    }\n",
              "    30% {\n",
              "      border-color: transparent;\n",
              "      border-left-color: var(--fill-color);\n",
              "      border-top-color: var(--fill-color);\n",
              "      border-right-color: var(--fill-color);\n",
              "    }\n",
              "    40% {\n",
              "      border-color: transparent;\n",
              "      border-right-color: var(--fill-color);\n",
              "      border-top-color: var(--fill-color);\n",
              "    }\n",
              "    60% {\n",
              "      border-color: transparent;\n",
              "      border-right-color: var(--fill-color);\n",
              "    }\n",
              "    80% {\n",
              "      border-color: transparent;\n",
              "      border-right-color: var(--fill-color);\n",
              "      border-bottom-color: var(--fill-color);\n",
              "    }\n",
              "    90% {\n",
              "      border-color: transparent;\n",
              "      border-bottom-color: var(--fill-color);\n",
              "    }\n",
              "  }\n",
              "</style>\n",
              "\n",
              "  <script>\n",
              "    async function quickchart(key) {\n",
              "      const quickchartButtonEl =\n",
              "        document.querySelector('#' + key + ' button');\n",
              "      quickchartButtonEl.disabled = true;  // To prevent multiple clicks.\n",
              "      quickchartButtonEl.classList.add('colab-df-spinner');\n",
              "      try {\n",
              "        const charts = await google.colab.kernel.invokeFunction(\n",
              "            'suggestCharts', [key], {});\n",
              "      } catch (error) {\n",
              "        console.error('Error during call to suggestCharts:', error);\n",
              "      }\n",
              "      quickchartButtonEl.classList.remove('colab-df-spinner');\n",
              "      quickchartButtonEl.classList.add('colab-df-quickchart-complete');\n",
              "    }\n",
              "    (() => {\n",
              "      let quickchartButtonEl =\n",
              "        document.querySelector('#df-54799202-ce63-469d-9739-e0d444bf9e56 button');\n",
              "      quickchartButtonEl.style.display =\n",
              "        google.colab.kernel.accessAllowed ? 'block' : 'none';\n",
              "    })();\n",
              "  </script>\n",
              "</div>\n",
              "\n",
              "    </div>\n",
              "  </div>\n"
            ],
            "application/vnd.google.colaboratory.intrinsic+json": {
              "type": "dataframe",
              "summary": "{\n  \"name\": \"df[['engine-size std', 'curb-weight std', 'city-mpg std']]\",\n  \"rows\": 2,\n  \"fields\": [\n    {\n      \"column\": \"engine-size std\",\n      \"properties\": {\n        \"dtype\": \"number\",\n        \"std\": 0.7088723439378909,\n        \"min\": -3.755978391766699e-17,\n        \"max\": 1.0024968827881706,\n        \"num_unique_values\": 2,\n        \"samples\": [\n          1.0024968827881706,\n          -3.755978391766699e-17\n        ],\n        \"semantic_type\": \"\",\n        \"description\": \"\"\n      }\n    },\n    {\n      \"column\": \"curb-weight std\",\n      \"properties\": {\n        \"dtype\": \"number\",\n        \"std\": 0.708872343937891,\n        \"min\": 3.004782713413359e-16,\n        \"max\": 1.002496882788171,\n        \"num_unique_values\": 2,\n        \"samples\": [\n          1.002496882788171,\n          3.004782713413359e-16\n        ],\n        \"semantic_type\": \"\",\n        \"description\": \"\"\n      }\n    },\n    {\n      \"column\": \"city-mpg std\",\n      \"properties\": {\n        \"dtype\": \"number\",\n        \"std\": 0.7088723439378908,\n        \"min\": 5.3025577295529864e-17,\n        \"max\": 1.0024968827881704,\n        \"num_unique_values\": 2,\n        \"samples\": [\n          1.0024968827881704,\n          5.3025577295529864e-17\n        ],\n        \"semantic_type\": \"\",\n        \"description\": \"\"\n      }\n    }\n  ]\n}"
            }
          },
          "metadata": {},
          "execution_count": 113
        }
      ]
    },
    {
      "cell_type": "markdown",
      "source": [
        "続いて線形回帰モデルを構築して、その回帰係数を見ることで、標準化によって、モデルの予測に寄与している説明変数が変化することを見てみましょう。ここで重要な点としては、訓練データに対して`fit`メソッドで平均値や標準化を算出し、それを`transform`メソッドによって訓練データとテストデータに対して標準化を行うということです。これは「データ漏洩」の防止につながります。テストデータの平均値や標準化を使ってスケーリングを行うと、モデルが本来知り得ない情報を使ってしまうことになります。これを「データ漏洩」と呼び、モデルの評価が正しく行えなくなります。"
      ],
      "metadata": {
        "id": "s9uulYV7oAzm"
      }
    },
    {
      "cell_type": "markdown",
      "source": [
        "訓練データとテストデータに分けるために`scikit-learn`の`train_test_split`関数の使用を使用しています。説明変数が含まれたデータXを訓練データX_trainとテストデータX_testに、目的変数が含まれたデータyを訓練データy_trainとテストデータy_testに分割しています。デフォルトでは、訓練データ:テストデータ=3:1に分割しますが、今回はtest_size=0.2として、訓練データ:テストデータ=4:1としています。`train_test_split`関数の引数`test_size`によって、訓練データとテストデータの分割の割合を変更できます。"
      ],
      "metadata": {
        "id": "vlY0Ds7RwWrt"
      }
    },
    {
      "cell_type": "code",
      "source": [
        "from sklearn.model_selection import train_test_split\n",
        "\n",
        "X = df[['engine-size', 'curb-weight', 'city-mpg']]\n",
        "y = df['price']\n",
        "\n",
        "X_train, X_test, y_train, y_test = train_test_split(X, y, test_size=0.2, random_state=42)\n",
        "\n",
        "ss = StandardScaler()\n",
        "ss.fit(X_train)\n",
        "X_train_std = ss.transform(X_train)\n",
        "X_test_std = ss.transform(X_test)"
      ],
      "metadata": {
        "id": "yBVFJCjSkSpU"
      },
      "execution_count": null,
      "outputs": []
    },
    {
      "cell_type": "markdown",
      "source": [
        "##4.2.モデルの構築"
      ],
      "metadata": {
        "id": "r3zq8I-19qiA"
      }
    },
    {
      "cell_type": "markdown",
      "source": [
        "まずは、標準化前のデータに対してモデルを構築します。いつもと同様に、`fit`メソッドを使用してモデルの学習を行います。"
      ],
      "metadata": {
        "id": "bSroc2h7sS0w"
      }
    },
    {
      "cell_type": "code",
      "source": [
        "from sklearn.linear_model import LinearRegression\n",
        "\n",
        "model = LinearRegression()\n",
        "\n",
        "model.fit(X_train, y_train)\n",
        "print('回帰係数:', model.coef_)"
      ],
      "metadata": {
        "id": "_EBtsNnnp3CE",
        "colab": {
          "base_uri": "https://localhost:8080/"
        },
        "outputId": "3cff781e-d331-4d10-ffeb-7f085d813af2"
      },
      "execution_count": null,
      "outputs": [
        {
          "output_type": "stream",
          "name": "stdout",
          "text": [
            "回帰係数: [  96.49537458    3.56641101 -152.03978154]\n"
          ]
        }
      ]
    },
    {
      "cell_type": "markdown",
      "source": [
        "回帰係数についても出力すると、3つ目の説明変数である`city-mpg`がモデルの予測に最も寄与していることになります。しかし、実際には各変数のスケールが揃っていないので、これは正しくありません。"
      ],
      "metadata": {
        "id": "EU1Db1AqvWYF"
      }
    },
    {
      "cell_type": "markdown",
      "source": [
        "続いて標準化後のデータに対してモデルを構築します。"
      ],
      "metadata": {
        "id": "_CSeDr6HsXcN"
      }
    },
    {
      "cell_type": "code",
      "source": [
        "model = LinearRegression()\n",
        "model.fit(X_train_std, y_train)\n",
        "print('回帰係数:', model.coef_)"
      ],
      "metadata": {
        "id": "YoegevDCsOOF",
        "colab": {
          "base_uri": "https://localhost:8080/"
        },
        "outputId": "f72e95bb-ed65-4469-89bf-bca4d1d6a964"
      },
      "execution_count": null,
      "outputs": [
        {
          "output_type": "stream",
          "name": "stdout",
          "text": [
            "回帰係数: [3824.32832662 1748.78601005 -958.81499881]\n"
          ]
        }
      ]
    },
    {
      "cell_type": "markdown",
      "source": [
        "同様に回帰係数を出力すると、１つ目の説明変数である`engine-size`がモデルの予測に最も寄与していることがわかりました。スケールを揃えることで、回帰係数の比較を行うことが可能になり、モデルの解釈ができるようになりました。"
      ],
      "metadata": {
        "id": "88rKyQDavhO2"
      }
    },
    {
      "cell_type": "markdown",
      "source": [
        "##4.3.演習問題"
      ],
      "metadata": {
        "id": "h1jTDuH-9qiB"
      }
    },
    {
      "cell_type": "markdown",
      "source": [
        "問4-1.レベル1で扱った「回帰コースLv1演習Data.csv」をダウンロードしてファイルをアップロードし、pandasのデータフレームとして読み込んでください。\n",
        "[回帰コースLv1演習Data.csv](https://drive.google.com/file/d/1uW2cKGLxyduR0XcU_zRguHBHf35nz4gS/view?usp=drive_link)\n",
        "\n",
        "なお、このデータは欠損値が含まれるので、欠損値が含まれる行をまず削除してください。続いてこのデータの変数である`engine-size`に対して標準化を行なってください。"
      ],
      "metadata": {
        "id": "dS8FvYceZzOO"
      }
    },
    {
      "cell_type": "code",
      "source": [],
      "metadata": {
        "id": "r_obLEoBVevu"
      },
      "execution_count": null,
      "outputs": []
    },
    {
      "cell_type": "markdown",
      "source": [
        "問4-2.`price`を目的変数として線形回帰を行い、回帰係数を出力してください。"
      ],
      "metadata": {
        "id": "vgyU7aqrxyZn"
      }
    },
    {
      "cell_type": "code",
      "source": [],
      "metadata": {
        "id": "2Qpopw65Vg9h"
      },
      "execution_count": null,
      "outputs": []
    }
  ]
}