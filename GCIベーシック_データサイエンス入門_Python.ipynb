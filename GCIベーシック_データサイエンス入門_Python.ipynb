{
  "nbformat": 4,
  "nbformat_minor": 0,
  "metadata": {
    "colab": {
      "provenance": [],
      "include_colab_link": true
    },
    "kernelspec": {
      "name": "python3",
      "display_name": "Python 3"
    },
    "language_info": {
      "name": "python"
    }
  },
  "cells": [
    {
      "cell_type": "markdown",
      "metadata": {
        "id": "view-in-github",
        "colab_type": "text"
      },
      "source": [
        "<a href=\"https://colab.research.google.com/github/liofval/GCI/blob/main/GCI%E3%83%99%E3%83%BC%E3%82%B7%E3%83%83%E3%82%AF_%E3%83%87%E3%83%BC%E3%82%BF%E3%82%B5%E3%82%A4%E3%82%A8%E3%83%B3%E3%82%B9%E5%85%A5%E9%96%80_Python.ipynb\" target=\"_parent\"><img src=\"https://colab.research.google.com/assets/colab-badge.svg\" alt=\"Open In Colab\"/></a>"
      ]
    },
    {
      "cell_type": "markdown",
      "source": [
        "本資料は、GCIベーシックの動画で扱ったPythonのプログラミング演習用資料です。Googleが提供しているColaboratoryという環境上でこのNotebookを利用していただくことを想定しています。Notebookは、Pythonのプログラムを実行でき、資料のようにテキストや図、数式なども記述できる環境です。まず、本資料で使用するNotebookの使い方から紹介します。"
      ],
      "metadata": {
        "id": "lwR-SnIHLLLX"
      }
    },
    {
      "cell_type": "markdown",
      "source": [
        "#Notebookの使い方"
      ],
      "metadata": {
        "id": "JBc9CxyKLaJu"
      }
    },
    {
      "cell_type": "markdown",
      "source": [
        "Notebookは、2種類のセル（格子状の箇所）から構成されます。"
      ],
      "metadata": {
        "id": "y7IlvHD_LhQc"
      }
    },
    {
      "cell_type": "markdown",
      "source": [
        "\n",
        "\n",
        "*   **テキストセル**：テキストを記述する箇所\n",
        "*   **コードセル**：プログラムを記述する箇所\n",
        "\n"
      ],
      "metadata": {
        "id": "N1unheHmL1Fr"
      }
    },
    {
      "cell_type": "markdown",
      "source": [
        "テキストセルは、今読んでいるこの文章自体を書き込んでいる箇所に相当します。この文章にカーソルを合わせて、ダブルクリックすると編集が可能になります。自身で資料作成やコードの説明を記載するのに便利です。今回の講義内では、コードの解説を記載し、自身で編集する必要はありません。"
      ],
      "metadata": {
        "id": "Sf6O4XzhMMvO"
      }
    },
    {
      "cell_type": "markdown",
      "source": [
        "コードセルは、下のセルのように灰色の背景を持つ格子状の枠に相当します。まずは、下記の`'Python'`と書かれたコードセルにカーソルを合わせ、セルの左側にある三角（▶）の実行ボタンを押してみてください。"
      ],
      "metadata": {
        "id": "a3gu_hRXM7n8"
      }
    },
    {
      "cell_type": "code",
      "execution_count": null,
      "metadata": {
        "id": "S8UK7AEqFGYG",
        "colab": {
          "base_uri": "https://localhost:8080/",
          "height": 36
        },
        "outputId": "e7d71d9f-e709-4a55-bee8-0c670c59e479"
      },
      "outputs": [
        {
          "output_type": "execute_result",
          "data": {
            "text/plain": [
              "'Python'"
            ],
            "application/vnd.google.colaboratory.intrinsic+json": {
              "type": "string"
            }
          },
          "metadata": {},
          "execution_count": 1
        }
      ],
      "source": [
        "'Python'"
      ]
    },
    {
      "cell_type": "markdown",
      "source": [
        "最初のコードが実行されました。コードセルの左に`[1]`と記載されているのは実行された順番を意味します。今後実行されるコードセルには、それぞれ、[2]、[3]、[4]…と連番が付与されます。コードの中に「`'`（シングルクォーテーション）」がなぜあったのか気になるかもしれません。これは後ほど紹介しますが、文字列を扱う際に囲むルールとなっています。コードセルの下に、コードと同じ内容の'Python'と表示されたのが確認できます。これは、Notebookにコードセル中の最後の行の処理結果を自動的に表示する機能が備わっているためです。"
      ],
      "metadata": {
        "id": "cRMaVx-fOCRS"
      }
    },
    {
      "cell_type": "markdown",
      "source": [
        "次に、最初のコードに1文字だけ付け加えた以下のコードを実行してみてください。"
      ],
      "metadata": {
        "id": "99v95RtYPb9N"
      }
    },
    {
      "cell_type": "code",
      "source": [
        "#'Python'"
      ],
      "metadata": {
        "id": "W2uenyM7Nlvd"
      },
      "execution_count": null,
      "outputs": []
    },
    {
      "cell_type": "markdown",
      "source": [
        "今度は、コードセルの下に何も表示されませんでした。「`#`（半角のシャープ）」のある行は、Pythonのコードとして処理されないようになっているためです。`#`は、主にコードの説明をコードセル上に記載する場合によく使用されます。"
      ],
      "metadata": {
        "id": "n9C-oEVMPi3R"
      }
    },
    {
      "cell_type": "markdown",
      "source": [
        "なお、Notebookの表示機能は、最後の実行結果のみであるため、次のコードを実行してみると、1行目の'Python'は表示されず、2行目の'プログラム'だけが表示されます。"
      ],
      "metadata": {
        "id": "pA6Ki6-V-B-Z"
      }
    },
    {
      "cell_type": "code",
      "source": [
        "'Python'\n",
        "'プログラム'"
      ],
      "metadata": {
        "colab": {
          "base_uri": "https://localhost:8080/",
          "height": 36
        },
        "id": "rfX5m12EPOt7",
        "outputId": "7f12e7a8-c927-43a7-918c-b798eb8bd688"
      },
      "execution_count": null,
      "outputs": [
        {
          "output_type": "execute_result",
          "data": {
            "text/plain": [
              "'プログラム'"
            ],
            "application/vnd.google.colaboratory.intrinsic+json": {
              "type": "string"
            }
          },
          "metadata": {},
          "execution_count": 2
        }
      ]
    },
    {
      "cell_type": "markdown",
      "source": [
        "Notebookの機能以外に、Pythonのコードとして、明示的に表示する方法もあり、次のコードを実行すると全ての行の文字列が表示されているのが確認できます。"
      ],
      "metadata": {
        "id": "SvIdOillQTSj"
      }
    },
    {
      "cell_type": "code",
      "source": [
        "print('Python')\n",
        "print('プログラム')"
      ],
      "metadata": {
        "colab": {
          "base_uri": "https://localhost:8080/"
        },
        "id": "4hFwQvlkPbFm",
        "outputId": "9fa54694-9f25-44a2-b247-136ec8827a5e"
      },
      "execution_count": null,
      "outputs": [
        {
          "output_type": "stream",
          "name": "stdout",
          "text": [
            "Python\n",
            "プログラム\n"
          ]
        }
      ]
    },
    {
      "cell_type": "markdown",
      "source": [
        "`print()`は、表示するための関数です。関数は、事前に決められた処理を実行するコードであり、Pythonには、このようなよく使う処理をする関数が用意されています。今回のprint関数は、かっこの内のものに改行を加えて表示するという処理を実行しています。Pythonには、このような「英単語()」というものがいくつか登場します。関数の詳細については、Python文法の関数の項目で紹介いたします。"
      ],
      "metadata": {
        "id": "Nf4JGBgvQnL7"
      }
    },
    {
      "cell_type": "markdown",
      "source": [
        "Pythonのプログラムでは、基本的に英数字や記号で構成されます。これまでに現れたものとして、「`print`（プリント）」という英単語や「`''`」や「`()`」、「`#`」などの記号があります。これらの記号は省略するとエラーが発生するため、注意が必要です。次のコードを実行してみましょう。"
      ],
      "metadata": {
        "id": "Hd68Wzs9SP-w"
      }
    },
    {
      "cell_type": "code",
      "source": [
        "'Python"
      ],
      "metadata": {
        "colab": {
          "base_uri": "https://localhost:8080/",
          "height": 111
        },
        "id": "GMHPofCATtpX",
        "outputId": "5a29ca60-4f87-4203-b6bc-47ac0a0f9ba2"
      },
      "execution_count": null,
      "outputs": [
        {
          "output_type": "error",
          "ename": "SyntaxError",
          "evalue": "unterminated string literal (detected at line 1) (<ipython-input-5-41bf735ac8fd>, line 1)",
          "traceback": [
            "\u001b[0;36m  File \u001b[0;32m\"<ipython-input-5-41bf735ac8fd>\"\u001b[0;36m, line \u001b[0;32m1\u001b[0m\n\u001b[0;31m    'Python\u001b[0m\n\u001b[0m    ^\u001b[0m\n\u001b[0;31mSyntaxError\u001b[0m\u001b[0;31m:\u001b[0m unterminated string literal (detected at line 1)\n"
          ]
        }
      ]
    },
    {
      "cell_type": "markdown",
      "source": [
        "コードセルの下に`SyntaxError`という表示が確認できます。SyntaxErrorはPythonの文法のエラーがあると知らせています。その：（コロン）以降にエラー内容の詳細が書いてあり、「終了していない文字列（1行目で検出）」と英語で書いています。つまり、今回の場合`'Python`の後に文字列の終わりを意味する`'`記号がないため、エラーとなっていることを知らせています。このようにエラーメッセージは英語で表示されますが、英語が詳しくなくとも、Google翻訳等を利用してエラーの原因が特定できます。また、よく分からないエラーが起きても、エラーメッセージの部分を検索にかけると問題が解決する場合があるので、エラーが出ても安心しましょう。本教材内のコードを実行するだけであれば、基本的にエラーはでないことを教材作成時に確認していますが、Python等の仕様が変更された場合や自身でプログラムを打ち込んで学習する際に間違って入力した場合、このようなメッセージが表示されることを知っておきましょう。"
      ],
      "metadata": {
        "id": "CmdJirmFTqeE"
      }
    },
    {
      "cell_type": "markdown",
      "source": [
        "本章では、以下の方法を紹介しました。下記の内容にまだ自信がない場合は、再度確認しましょう。\n",
        "\n",
        "\n",
        "*   テキストセル\n",
        "*   コードセル\n",
        "*   コードセルの実行方法\n",
        "*   コードセルの結果表示\n",
        "*   `#`（シャープ）記号\n",
        "*   エラーメッセージ\n"
      ],
      "metadata": {
        "id": "LZPmfw_uRNhB"
      }
    },
    {
      "cell_type": "markdown",
      "source": [
        "#Pythonの基本文法"
      ],
      "metadata": {
        "id": "pBv0L-uwWDX0"
      }
    },
    {
      "cell_type": "markdown",
      "source": [
        "ここからPythonの基本文法について学んでいきます。まずは、計算を指示する演算子から解説します。"
      ],
      "metadata": {
        "id": "PaQz0k_9WIR2"
      }
    },
    {
      "cell_type": "markdown",
      "source": [
        "##演算子"
      ],
      "metadata": {
        "id": "XAmGGfyjWNZC"
      }
    },
    {
      "cell_type": "markdown",
      "source": [
        "**演算子**は、値に対して計算を指示する記号です。計算が終わると新たな値として**評価**されます。"
      ],
      "metadata": {
        "id": "tvfvXe-nWWcT"
      }
    },
    {
      "cell_type": "markdown",
      "source": [
        "![image.png](data:image/png;base64,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)"
      ],
      "metadata": {
        "id": "mw1wYT5sisuB"
      }
    },
    {
      "cell_type": "markdown",
      "source": [
        "###算術演算子"
      ],
      "metadata": {
        "id": "jVhJg5eBWPDj"
      }
    },
    {
      "cell_type": "markdown",
      "source": [
        "特に、足し算や引き算などの**算術演算子**は、数学のように数値の間において計算します。足し算や引き算の演算子は、数学の記号と共通しますが、掛け算と割り算、べき乗は、特有の記号となります。掛け算は`*`（アスタリスク）記号、割り算は`/`（スラッシュ）記号、べき乗は2つの`*`記号で表します。"
      ],
      "metadata": {
        "id": "gn2bHDuyUzvt"
      }
    },
    {
      "cell_type": "markdown",
      "source": [
        "|算術演算子|算術内容|\n",
        "|:-|:-|\n",
        "|+|足し算|\n",
        "|-|引き算|\n",
        "|*|掛け算|\n",
        "|/|割り算|\n",
        "|**|べき乗|\n",
        "\n"
      ],
      "metadata": {
        "id": "OnQqUu8hXIs5"
      }
    },
    {
      "cell_type": "markdown",
      "source": [
        "下記のコードを実行し、それぞれの計算結果が正しく評価されているか確認してみましょう。"
      ],
      "metadata": {
        "id": "xBQ5QgsoYW8a"
      }
    },
    {
      "cell_type": "markdown",
      "source": [
        "![image.png](data:image/png;base64,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)"
      ],
      "metadata": {
        "id": "GjoyV-AqjDej"
      }
    },
    {
      "cell_type": "code",
      "source": [
        "#足し算\n",
        "1 + 1"
      ],
      "metadata": {
        "colab": {
          "base_uri": "https://localhost:8080/"
        },
        "id": "VqiYe1h-QlXk",
        "outputId": "a92fe9fa-b413-40a1-96a1-e07a149701e9"
      },
      "execution_count": null,
      "outputs": [
        {
          "output_type": "execute_result",
          "data": {
            "text/plain": [
              "2"
            ]
          },
          "metadata": {},
          "execution_count": 6
        }
      ]
    },
    {
      "cell_type": "code",
      "source": [
        "#引き算\n",
        "1 - 1"
      ],
      "metadata": {
        "colab": {
          "base_uri": "https://localhost:8080/"
        },
        "id": "1zaljl-pYhvO",
        "outputId": "d442875d-ceb0-4c19-d7c7-0e5ddc68a978"
      },
      "execution_count": null,
      "outputs": [
        {
          "output_type": "execute_result",
          "data": {
            "text/plain": [
              "0"
            ]
          },
          "metadata": {},
          "execution_count": 7
        }
      ]
    },
    {
      "cell_type": "code",
      "source": [
        "#掛け算（1×2）\n",
        "1 * 2"
      ],
      "metadata": {
        "colab": {
          "base_uri": "https://localhost:8080/"
        },
        "id": "laKnpPsAYjX7",
        "outputId": "8cb15a65-7928-450b-98ba-319e952e56d7"
      },
      "execution_count": null,
      "outputs": [
        {
          "output_type": "execute_result",
          "data": {
            "text/plain": [
              "2"
            ]
          },
          "metadata": {},
          "execution_count": 8
        }
      ]
    },
    {
      "cell_type": "code",
      "source": [
        "#割り算(1÷2)\n",
        "1 / 2"
      ],
      "metadata": {
        "colab": {
          "base_uri": "https://localhost:8080/"
        },
        "id": "RAgiUaBkYmCk",
        "outputId": "b843ebba-37a2-4be3-c028-1ed772b33528"
      },
      "execution_count": null,
      "outputs": [
        {
          "output_type": "execute_result",
          "data": {
            "text/plain": [
              "0.5"
            ]
          },
          "metadata": {},
          "execution_count": 9
        }
      ]
    },
    {
      "cell_type": "code",
      "source": [
        "#べき乗(2の3乗)\n",
        "2 ** 3"
      ],
      "metadata": {
        "colab": {
          "base_uri": "https://localhost:8080/"
        },
        "id": "Dp8zVjvCYnL8",
        "outputId": "6d242f7d-ac03-484a-f1fd-950925c99308"
      },
      "execution_count": null,
      "outputs": [
        {
          "output_type": "execute_result",
          "data": {
            "text/plain": [
              "8"
            ]
          },
          "metadata": {},
          "execution_count": 1
        }
      ]
    },
    {
      "cell_type": "markdown",
      "source": [
        "###比較演算子"
      ],
      "metadata": {
        "id": "lDrpela0WUH2"
      }
    },
    {
      "cell_type": "markdown",
      "source": [
        "演算子には、算術演算子のほかに、**比較演算子**があります。比較演算子は、左右の値を比較する記号です。比較した結果から、`True`（真）か`False`（偽）のどちらかの値（**真偽値**）に評価されます。比較演算子には、以下の表のような種類があります。左右の値の大きさを比べる`>`（大なり）記号や`<`（小なり）記号などがあります。なお、同じかどうかを比べる際には、`=`（イコール）記号を2つ使用します。`=`が1つの場合は、後ほど登場する「代入」という異なる意味となるため、注意しましょう。"
      ],
      "metadata": {
        "id": "DtWUaGP0XWz8"
      }
    },
    {
      "cell_type": "markdown",
      "source": [
        "|比較演算子|比較内容|\n",
        "|:-|:-|\n",
        "|>|左が右の値より大きいか|\n",
        "|<|左が右の値より小さいか|\n",
        "|>=|左が右の値以上か|\n",
        "|<=|左が右の値以下か|\n",
        "|==|左右の値が同じか|\n",
        "|!=|左右の値が同じでないか|"
      ],
      "metadata": {
        "id": "VpD6aENPVK7P"
      }
    },
    {
      "cell_type": "markdown",
      "source": [
        "例えば、`>`（大なり）では、左の値が右の値より大きいかを評価し、結果、正しければ、`True`となります。一方、正しくなければ、`False`と評価されます。以下のコードを実行し、確かめてみましょう。"
      ],
      "metadata": {
        "id": "SMwN_xFkY6XW"
      }
    },
    {
      "cell_type": "markdown",
      "source": [
        "![image.png](data:image/png;base64,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)"
      ],
      "metadata": {
        "id": "KC7jAuZYjJ1M"
      }
    },
    {
      "cell_type": "code",
      "source": [
        "#「1大なり0」は、真\n",
        "1 > 0"
      ],
      "metadata": {
        "id": "2WnKDKeiYx9K",
        "colab": {
          "base_uri": "https://localhost:8080/"
        },
        "outputId": "ffdebf30-9e16-46c2-bc00-6cb5c7fac8f5"
      },
      "execution_count": null,
      "outputs": [
        {
          "output_type": "execute_result",
          "data": {
            "text/plain": [
              "True"
            ]
          },
          "metadata": {},
          "execution_count": 2
        }
      ]
    },
    {
      "cell_type": "code",
      "source": [
        "#「1小なり1」は、偽\n",
        "1 < 1"
      ],
      "metadata": {
        "colab": {
          "base_uri": "https://localhost:8080/"
        },
        "id": "yQmrRSwpYXYp",
        "outputId": "bca5b12f-bddf-4807-a800-61f6c3f7cdf9"
      },
      "execution_count": null,
      "outputs": [
        {
          "output_type": "execute_result",
          "data": {
            "text/plain": [
              "False"
            ]
          },
          "metadata": {},
          "execution_count": 9
        }
      ]
    },
    {
      "cell_type": "code",
      "source": [
        "#「1大なりイコール1」は、真\n",
        "1 >= 1"
      ],
      "metadata": {
        "colab": {
          "base_uri": "https://localhost:8080/"
        },
        "id": "v3QYcQANZ6gz",
        "outputId": "658dad6d-1066-4c61-d46d-51d3a90c67ee"
      },
      "execution_count": null,
      "outputs": [
        {
          "output_type": "execute_result",
          "data": {
            "text/plain": [
              "True"
            ]
          },
          "metadata": {},
          "execution_count": 7
        }
      ]
    },
    {
      "cell_type": "code",
      "source": [
        "#「1小なりイコール1」は、真\n",
        "1 <= 1"
      ],
      "metadata": {
        "colab": {
          "base_uri": "https://localhost:8080/"
        },
        "id": "hKDbEZWBaAnY",
        "outputId": "13db7b5f-e39a-48c1-c55f-824b3c5b8853"
      },
      "execution_count": null,
      "outputs": [
        {
          "output_type": "execute_result",
          "data": {
            "text/plain": [
              "True"
            ]
          },
          "metadata": {},
          "execution_count": 8
        }
      ]
    },
    {
      "cell_type": "code",
      "source": [
        "#「1イコール0」は、偽\n",
        "1 == 0"
      ],
      "metadata": {
        "colab": {
          "base_uri": "https://localhost:8080/"
        },
        "id": "CQE9q0VpYt1n",
        "outputId": "560957c3-ba51-4f07-e742-a914e9affd73"
      },
      "execution_count": null,
      "outputs": [
        {
          "output_type": "execute_result",
          "data": {
            "text/plain": [
              "False"
            ]
          },
          "metadata": {},
          "execution_count": 5
        }
      ]
    },
    {
      "cell_type": "code",
      "source": [
        "#「1ノットイコール0」は真\n",
        "1 != 0"
      ],
      "metadata": {
        "colab": {
          "base_uri": "https://localhost:8080/"
        },
        "id": "VtizTXovaQmS",
        "outputId": "5e16d609-f1b7-438b-efa9-da55dee1fc56"
      },
      "execution_count": null,
      "outputs": [
        {
          "output_type": "execute_result",
          "data": {
            "text/plain": [
              "True"
            ]
          },
          "metadata": {},
          "execution_count": 10
        }
      ]
    },
    {
      "cell_type": "markdown",
      "source": [
        "演算子の説明は以上です。以下の2つの演算子について紹介しました。それぞれの演算子にはどのような記号があり、どのような値に評価されるのか自信がなければ再度確認してみましょう。\n",
        "\n",
        "*   算術演算子\n",
        "*   比較演算子\n",
        "\n"
      ],
      "metadata": {
        "id": "ra7iJBm16Q9j"
      }
    },
    {
      "cell_type": "markdown",
      "source": [
        "##変数"
      ],
      "metadata": {
        "id": "OCuLPevOdeO6"
      }
    },
    {
      "cell_type": "markdown",
      "source": [
        "次に**変数**について説明します。値に名前を付けて一時的に記録したものです。値を入れておく箱のように例えられます。変数に値を記録する操作を**代入**と言い、変数に記録した値を取り出して確認する操作を**参照**と言います。コード上では、`変数名（記録する場所名）=値`とすることで左側の変数に右側の値を代入できます。一方、変数名だけを記載すると、値を参照できます。なお、参照しても箱の値がなくなるわけではないので、何度も参照可能です。"
      ],
      "metadata": {
        "id": "3VRbx0uWdhn1"
      }
    },
    {
      "cell_type": "markdown",
      "source": [
        ">**【変数への代入方法】**\n",
        ">\n",
        ">```python\n",
        "変数名 = 代入したい値\n",
        "```"
      ],
      "metadata": {
        "id": "gFNRp7YOewRD"
      }
    },
    {
      "cell_type": "markdown",
      "source": [
        "![image.png](data:image/png;base64,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)"
      ],
      "metadata": {
        "id": "haPo6BNrUYIB"
      }
    },
    {
      "cell_type": "code",
      "source": [
        "#変数xに1を代入\n",
        "x = 1"
      ],
      "metadata": {
        "id": "2rWzwl_RHO8s"
      },
      "execution_count": null,
      "outputs": []
    },
    {
      "cell_type": "code",
      "source": [
        "#変数xを参照\n",
        "x"
      ],
      "metadata": {
        "colab": {
          "base_uri": "https://localhost:8080/"
        },
        "id": "imLhdDm6Hv7L",
        "outputId": "4077f67f-0467-4203-b51e-907eb9637e87"
      },
      "execution_count": null,
      "outputs": [
        {
          "output_type": "execute_result",
          "data": {
            "text/plain": [
              "1"
            ]
          },
          "metadata": {},
          "execution_count": 4
        }
      ]
    },
    {
      "cell_type": "markdown",
      "source": [
        "変数に一度代入された値は、新しい値を再び代入（再代入）するまで記録されます。また、他のコードセル上でも利用可能です。再代入のときも代入と同様に書くことができます。"
      ],
      "metadata": {
        "id": "hi1nhxyAHkcw"
      }
    },
    {
      "cell_type": "code",
      "source": [
        "#変数名xに2を再代入\n",
        "x = 2"
      ],
      "metadata": {
        "id": "zVSJmPn9HnxB"
      },
      "execution_count": null,
      "outputs": []
    },
    {
      "cell_type": "code",
      "source": [
        "#変数xを参照\n",
        "x"
      ],
      "metadata": {
        "colab": {
          "base_uri": "https://localhost:8080/"
        },
        "id": "YwedqRUQH3QG",
        "outputId": "d4f82d01-631a-4cbd-80f8-f748e336bdf8"
      },
      "execution_count": null,
      "outputs": [
        {
          "output_type": "execute_result",
          "data": {
            "text/plain": [
              "2"
            ]
          },
          "metadata": {},
          "execution_count": 6
        }
      ]
    },
    {
      "cell_type": "markdown",
      "source": [
        "プログラムの代入「`=`」は、数学の等号「=」と意味が異なります。以下のコードを見てみると数学的には変な式のように感じられますが、プログラムは問題なく実行されます。"
      ],
      "metadata": {
        "id": "Agd4oc6lUBz7"
      }
    },
    {
      "cell_type": "code",
      "source": [
        "#xに1を再代入\n",
        "x = 1\n",
        "#xの参照 -> 1 + 2 -> 3 ->xに再代入\n",
        "x = x + 2\n",
        "#xの参照\n",
        "x"
      ],
      "metadata": {
        "colab": {
          "base_uri": "https://localhost:8080/"
        },
        "id": "IkhhxAmoIDDO",
        "outputId": "b31b44d7-7219-4620-fe73-877ff9f8c00f"
      },
      "execution_count": null,
      "outputs": [
        {
          "output_type": "execute_result",
          "data": {
            "text/plain": [
              "3"
            ]
          },
          "metadata": {},
          "execution_count": 8
        }
      ]
    },
    {
      "cell_type": "markdown",
      "source": [
        "代入のある行は、代入よりも右側の計算が先に処理される決まりとなっています。上の例では、まず`x=1`でxに1が代入されます。その次の行の「`x = x + 2`」では、イコールより右側のxがまず参照され、上のコードセルで代入されていた1となります。その1と`+`演算子と2がセットで評価され、評価結果の3がxに再び代入されます。結果、xと参照すると、3と表示されているのが確認できます。"
      ],
      "metadata": {
        "id": "UhUYpf1ObAUX"
      }
    },
    {
      "cell_type": "markdown",
      "source": [
        "イメージとしては、以下の通りです。"
      ],
      "metadata": {
        "id": "0N-BYYRIakdT"
      }
    },
    {
      "cell_type": "markdown",
      "source": [
        "![image.png](data:image/png;base64,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)"
      ],
      "metadata": {
        "id": "_hpH3NX3ai1a"
      }
    },
    {
      "cell_type": "markdown",
      "source": [
        "変数名は、基本的に自由に決めることができます。しかし、変数名の決め方として、最初に数字を使用できなかったり、TrueやFalseなど、Pythonですでに意味を持つ一部の英単語は使用できないという制約があります。そのような変数名を付けてしまった場合は代入時にSyntaxErrorが表示されます。"
      ],
      "metadata": {
        "id": "haAVGzNabagK"
      }
    },
    {
      "cell_type": "markdown",
      "source": [
        "変数の説明は以上です。代入記号「`=`」が数学の「`=`」と意味が異なることに注意しましょう。以下の用語の理解に自信が持てなければ、再度、確認してみましょう。\n",
        "\n",
        "*   変数\n",
        "*   代入\n",
        "*   参照\n",
        "\n"
      ],
      "metadata": {
        "id": "51DeyF-mcNnj"
      }
    },
    {
      "cell_type": "markdown",
      "source": [
        "##データ型"
      ],
      "metadata": {
        "id": "W_G02NXDbY6N"
      }
    },
    {
      "cell_type": "markdown",
      "source": [
        "これまでに文字列や整数、真偽値を扱いました。プログラミングで扱うこのような値の種類は、**データ型**（type）と呼ばれ、区別されます。以下の表に基本的なデータ型と値の例を示します。変数に例のような値を代入すると対応したデータ型になります。"
      ],
      "metadata": {
        "id": "74DfObONbfQB"
      }
    },
    {
      "cell_type": "markdown",
      "source": [
        "|データ型|内容|例|\n",
        "|:-|:-|:-|\n",
        "|int|整数|`1`|\n",
        "|float|小数|`3.14`|\n",
        "|str|文字列|`'Python'`\n",
        "|bool|真偽値|`True`\n",
        "|list|リスト|`[0, 1, 2]`|\n"
      ],
      "metadata": {
        "id": "zrt2MaxccMOu"
      }
    },
    {
      "cell_type": "markdown",
      "source": [
        "変数に代入した値のデータ型は、type()で調べられます。typeの後ろのかっこ内に変数を入力すると変数のデータ型が出力されます。"
      ],
      "metadata": {
        "id": "qJugfHNgMTHW"
      }
    },
    {
      "cell_type": "markdown",
      "source": [
        "###数値（int型とfloat型）"
      ],
      "metadata": {
        "id": "Aa1PwkT46-73"
      }
    },
    {
      "cell_type": "markdown",
      "source": [
        "数値を扱えるデータ型に**int**（イント）型と**float**（フロート）型があります。整数を変数に代入するとint型、数値に小数点を入れて変数に代入するとfloat型となります。"
      ],
      "metadata": {
        "id": "5193bdZ7NJL4"
      }
    },
    {
      "cell_type": "code",
      "source": [
        "# int型（整数）\n",
        "num = 1\n",
        "#type関数で変数numのデータ型を表示\n",
        "type(num)"
      ],
      "metadata": {
        "colab": {
          "base_uri": "https://localhost:8080/"
        },
        "id": "ulkUwenBN4jt",
        "outputId": "e620615a-5e09-477a-f3f0-4ba920cdbe46"
      },
      "execution_count": null,
      "outputs": [
        {
          "output_type": "execute_result",
          "data": {
            "text/plain": [
              "int"
            ]
          },
          "metadata": {},
          "execution_count": 9
        }
      ]
    },
    {
      "cell_type": "code",
      "source": [
        "# float型（小数）\n",
        "pi = 3.14\n",
        "type(pi)"
      ],
      "metadata": {
        "colab": {
          "base_uri": "https://localhost:8080/"
        },
        "id": "DhvWa-TCN9vc",
        "outputId": "687ed3b4-86b7-4a9e-d4f5-d6bf4361db2b"
      },
      "execution_count": null,
      "outputs": [
        {
          "output_type": "execute_result",
          "data": {
            "text/plain": [
              "float"
            ]
          },
          "metadata": {},
          "execution_count": 2
        }
      ]
    },
    {
      "cell_type": "markdown",
      "source": [
        "###文字列（str型）"
      ],
      "metadata": {
        "id": "-0QQmF3U7tap"
      }
    },
    {
      "cell_type": "markdown",
      "source": [
        "文字列を扱うデータ型に**str**（ストリング）型があります。str型は、変数へ代入時にシングルクォーテーション「'」、または、ダブルクォーテーション「\"」で挟んだ文字列は、str型となります。"
      ],
      "metadata": {
        "id": "GDGKQMMJOUoN"
      }
    },
    {
      "cell_type": "code",
      "source": [
        "#文字列の代入\n",
        "string = 'Python'\n",
        "type(string)"
      ],
      "metadata": {
        "colab": {
          "base_uri": "https://localhost:8080/"
        },
        "id": "DEEp_1H2OXH3",
        "outputId": "6aa1eccb-6739-4930-c555-33ea268f7e82"
      },
      "execution_count": null,
      "outputs": [
        {
          "output_type": "execute_result",
          "data": {
            "text/plain": [
              "str"
            ]
          },
          "metadata": {},
          "execution_count": 12
        }
      ]
    },
    {
      "cell_type": "markdown",
      "source": [
        "シングルクォーテーションとダブルクォーテーションの2つがある理由は、「It's Python」のような文字列内にシングルクォーテーションを入れたいときに使用するためです。"
      ],
      "metadata": {
        "id": "17jdjM7YgGTz"
      }
    },
    {
      "cell_type": "code",
      "source": [
        "#問題ないコード\n",
        "print(\"It's Python\")\n",
        "#エラーとなるコード（下のコードの#を削除するとSyntaxErrorとなります。）\n",
        "#print('It's Python')"
      ],
      "metadata": {
        "colab": {
          "base_uri": "https://localhost:8080/"
        },
        "id": "ymo7qVnDggB6",
        "outputId": "573551b9-44d6-46e2-dbb4-062488866677"
      },
      "execution_count": null,
      "outputs": [
        {
          "output_type": "stream",
          "name": "stdout",
          "text": [
            "It's Python\n"
          ]
        }
      ]
    },
    {
      "cell_type": "markdown",
      "source": [
        "本教材では、上記のようなことがない限り、シングルクォーテーションに統一して記載いたします。"
      ],
      "metadata": {
        "id": "l98ZNS_YgfT-"
      }
    },
    {
      "cell_type": "markdown",
      "source": [
        "###真偽値（bool型）"
      ],
      "metadata": {
        "id": "DjEYVgpc7Jyd"
      }
    },
    {
      "cell_type": "markdown",
      "source": [
        "比較演算子の評価値として紹介した、真偽値のデータ型が**bool**（ブール）型です。bool型は、真を意味する**True**と偽を意味する**False**の2つのみです。"
      ],
      "metadata": {
        "id": "iBGYoRa5OcfD"
      }
    },
    {
      "cell_type": "code",
      "source": [
        "#真偽値（True）\n",
        "yes = True\n",
        "type(yes)"
      ],
      "metadata": {
        "colab": {
          "base_uri": "https://localhost:8080/"
        },
        "id": "9iyhTMY2OhwA",
        "outputId": "10da20b0-d0f0-4f92-ec88-b16ed8bba3bf"
      },
      "execution_count": null,
      "outputs": [
        {
          "output_type": "execute_result",
          "data": {
            "text/plain": [
              "bool"
            ]
          },
          "metadata": {},
          "execution_count": 13
        }
      ]
    },
    {
      "cell_type": "code",
      "source": [
        "#真偽値（False）\n",
        "no = False\n",
        "type(no)"
      ],
      "metadata": {
        "colab": {
          "base_uri": "https://localhost:8080/"
        },
        "id": "Y-amtfZ4OoTT",
        "outputId": "0a46158f-d4a4-44b9-9c0e-77ead6d45e9a"
      },
      "execution_count": null,
      "outputs": [
        {
          "output_type": "execute_result",
          "data": {
            "text/plain": [
              "bool"
            ]
          },
          "metadata": {},
          "execution_count": 14
        }
      ]
    },
    {
      "cell_type": "markdown",
      "source": [
        "###複数の値（list型）"
      ],
      "metadata": {
        "id": "vdOZNYJ58An2"
      }
    },
    {
      "cell_type": "markdown",
      "source": [
        "複数の値を順番に管理できるデータ型に**list**（リスト）型があります。複数の値を`,`（カンマ）で区切り、全体を角かっこで囲むとリストとなります。要素には文字列や数値などのデータ型も利用できます。リストの詳細は、後ほど紹介します。"
      ],
      "metadata": {
        "id": "kS82V3Ia_APl"
      }
    },
    {
      "cell_type": "markdown",
      "source": [
        "![image.png](data:image/png;base64,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)"
      ],
      "metadata": {
        "id": "Nam0zppnd5hc"
      }
    },
    {
      "cell_type": "code",
      "source": [
        "#数値の要素を持つリストを代入\n",
        "numbers = [1, 2, 3]\n",
        "type(numbers)"
      ],
      "metadata": {
        "id": "ZuaGfaFR_Dsn",
        "colab": {
          "base_uri": "https://localhost:8080/"
        },
        "outputId": "94850153-8aaf-48fd-fcbd-7cd44f56ed8a"
      },
      "execution_count": null,
      "outputs": [
        {
          "output_type": "execute_result",
          "data": {
            "text/plain": [
              "list"
            ]
          },
          "metadata": {},
          "execution_count": 3
        }
      ]
    },
    {
      "cell_type": "markdown",
      "source": [
        "代表的なデータ型（int型とfloat型、str型、bool型、list型）を紹介いたしました。それぞれのデータ型の代入方法は覚えておきましょう。もし、自身が持てなければ、再度確認してみましょう。"
      ],
      "metadata": {
        "id": "LqYeLseU8kK4"
      }
    },
    {
      "cell_type": "markdown",
      "source": [
        "##リスト"
      ],
      "metadata": {
        "id": "ixq7F4LYiRJB"
      }
    },
    {
      "cell_type": "markdown",
      "source": [
        "リストは、複数の値を持つため、特定の値を参照・変更したり、複数の値に対して処理をしたい場合があります。今回は、リストの詳細について紹介します。リストの各値は**要素**、要素の順番は**インデックス**と呼ばれます。インデックスは、**最初の要素番号を0**とし、順に1、2、3と増えます。リストの変数名の後ろの角かっこにインデックスを指定して要素の参照・変更が可能です。"
      ],
      "metadata": {
        "id": "9gYT0dBM_HeG"
      }
    },
    {
      "cell_type": "code",
      "source": [
        "#数値の要素を持つリストを代入\n",
        "scores = [50 , 70, 90]\n",
        "#リストの3番目(インデックス2)の要素の参照\n",
        "scores[2]"
      ],
      "metadata": {
        "colab": {
          "base_uri": "https://localhost:8080/"
        },
        "id": "JbZrO9CJ_K5o",
        "outputId": "54a9f257-c968-40c0-d521-2eb9cc139e67"
      },
      "execution_count": null,
      "outputs": [
        {
          "output_type": "execute_result",
          "data": {
            "text/plain": [
              "90"
            ]
          },
          "metadata": {},
          "execution_count": 2
        }
      ]
    },
    {
      "cell_type": "code",
      "source": [
        "#リストの最後の要素を変更\n",
        "scores[2] = 0\n",
        "#リストを参照\n",
        "scores"
      ],
      "metadata": {
        "colab": {
          "base_uri": "https://localhost:8080/"
        },
        "id": "nA_wd947aK4B",
        "outputId": "aafd0085-8e08-488a-cd78-d981b6b85ab8"
      },
      "execution_count": null,
      "outputs": [
        {
          "output_type": "execute_result",
          "data": {
            "text/plain": [
              "[50, 70, 0]"
            ]
          },
          "metadata": {},
          "execution_count": 8
        }
      ]
    },
    {
      "cell_type": "markdown",
      "source": [
        "リストは、リスト自体も要素に持てます。2重の角かっこを使って表データのように値を管理できます。行や列番号を指定して要素やリストを参照できます。"
      ],
      "metadata": {
        "id": "uj76-vKp_aWQ"
      }
    },
    {
      "cell_type": "markdown",
      "source": [
        "![image.png](data:image/png;base64,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)"
      ],
      "metadata": {
        "id": "-g5TkWDk7zZv"
      }
    },
    {
      "cell_type": "code",
      "source": [
        "#2次元リストの代入\n",
        "score_table = [['A', 'B', 'C'], [50, 70, 90]]\n",
        "\n",
        "#0行目の1次元リストを参照\n",
        "score_table[0]"
      ],
      "metadata": {
        "id": "5Q7DZ8xl_Xau",
        "colab": {
          "base_uri": "https://localhost:8080/"
        },
        "outputId": "0a2201d9-5b46-4c38-9699-46a51fa4d4f1"
      },
      "execution_count": null,
      "outputs": [
        {
          "output_type": "execute_result",
          "data": {
            "text/plain": [
              "['A', 'B', 'C']"
            ]
          },
          "metadata": {},
          "execution_count": 4
        }
      ]
    },
    {
      "cell_type": "code",
      "source": [
        "#0行2列の要素を参照\n",
        "score_table[0][2]"
      ],
      "metadata": {
        "colab": {
          "base_uri": "https://localhost:8080/",
          "height": 36
        },
        "id": "H2BkdOG0C1lr",
        "outputId": "8abe10ad-4b56-4e27-fc18-85bd7e0d2d26"
      },
      "execution_count": null,
      "outputs": [
        {
          "output_type": "execute_result",
          "data": {
            "text/plain": [
              "'C'"
            ],
            "application/vnd.google.colaboratory.intrinsic+json": {
              "type": "string"
            }
          },
          "metadata": {},
          "execution_count": 5
        }
      ]
    },
    {
      "cell_type": "code",
      "source": [
        "#1行2列の要素を参照\n",
        "score_table[1][2]"
      ],
      "metadata": {
        "colab": {
          "base_uri": "https://localhost:8080/"
        },
        "id": "h5823pTJC7aO",
        "outputId": "d7d477dd-1a94-414a-ba8a-04af79cc5144"
      },
      "execution_count": null,
      "outputs": [
        {
          "output_type": "execute_result",
          "data": {
            "text/plain": [
              "90"
            ]
          },
          "metadata": {},
          "execution_count": 6
        }
      ]
    },
    {
      "cell_type": "markdown",
      "source": [
        "##関数"
      ],
      "metadata": {
        "id": "c4kltdEBGe6v"
      }
    },
    {
      "cell_type": "markdown",
      "source": [
        "**関数**は、事前に決められた処理を実行するコードです。関数に入力する値は**引数**、関数から出力される値は**戻り値**と呼ばれます。引数がない関数や戻り値のない関数もあります。Pythonに事前に準備されている関数は、特に、**組み込み関数**と呼ばれます。代表的な組み込み関数の処理内容を以下の表に示します。"
      ],
      "metadata": {
        "id": "ST3IeezrdSXm"
      }
    },
    {
      "cell_type": "markdown",
      "source": [
        "###組み込み関数"
      ],
      "metadata": {
        "id": "l5rSnDyayTls"
      }
    },
    {
      "cell_type": "markdown",
      "source": [
        "|代表的な関数|処理内容|\n",
        "|:-|:-|\n",
        "|print()|入力を文字列として表示|\n",
        "|type()|入力のデータ型（type）を出力|\n",
        "|len()|入力の長さ（length）を出力|"
      ],
      "metadata": {
        "id": "1tQwX-qRInmB"
      }
    },
    {
      "cell_type": "markdown",
      "source": [
        "![image.png](data:image/png;base64,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)"
      ],
      "metadata": {
        "id": "uJ3_8Ntcnckr"
      }
    },
    {
      "cell_type": "markdown",
      "source": [
        ">**【関数の使用方法】**\n",
        ">\n",
        ">```python\n",
        "戻り値を代入する変数名 = 関数名(引数)\n",
        "```\n",
        "引数がない場合も関数名の後ろの丸かっこは必須です。\n",
        "戻り値がない場合や戻り値を後で使用しない場合、代入作業は不要です。"
      ],
      "metadata": {
        "id": "NQClCcusZvgV"
      }
    },
    {
      "cell_type": "code",
      "source": [
        "input_value = '1'\n",
        "output_value = type(input_value)\n",
        "output_value"
      ],
      "metadata": {
        "colab": {
          "base_uri": "https://localhost:8080/"
        },
        "id": "r3vqSs47dOrx",
        "outputId": "abf321b3-a804-4ae8-8d8c-d8541b18355a"
      },
      "execution_count": null,
      "outputs": [
        {
          "output_type": "execute_result",
          "data": {
            "text/plain": [
              "str"
            ]
          },
          "metadata": {},
          "execution_count": 9
        }
      ]
    },
    {
      "cell_type": "markdown",
      "source": [
        "###リストの計算に使用できる関数"
      ],
      "metadata": {
        "id": "Dni5sMlwyZjF"
      }
    },
    {
      "cell_type": "markdown",
      "source": [
        "Pythonには、先ほど紹介したリストの合計値や要素数を計算する便利な組み込み関数が用意されています。リストに対してよく使用される、組み込み関数とその戻り値を下の表に示します。"
      ],
      "metadata": {
        "id": "lF5WkwQui4E4"
      }
    },
    {
      "cell_type": "markdown",
      "source": [
        "|関数|戻り値|\n",
        "|:-|:-|\n",
        "|sum()|合計値|\n",
        "|len()|要素数|\n",
        "|max()|最大値|\n",
        "|min()|最小値|"
      ],
      "metadata": {
        "id": "hWqafkwAi8om"
      }
    },
    {
      "cell_type": "markdown",
      "source": [
        "len関数は、リストを引数として入力すると要素数を出力します。`len`は、長さを意味するlengthの略称です。なお、2次元リストを入力すると行数が戻り値として出力されます。"
      ],
      "metadata": {
        "id": "-L2GOZVPgyQo"
      }
    },
    {
      "cell_type": "code",
      "source": [
        "#len関数で変数scoresの要素数を変数numに代入\n",
        "num = len(scores)\n",
        "#変数numを参照\n",
        "num"
      ],
      "metadata": {
        "colab": {
          "base_uri": "https://localhost:8080/"
        },
        "id": "KmPZ-e7ojA2r",
        "outputId": "17b67441-c15c-49f7-a14d-421fb977b846"
      },
      "execution_count": null,
      "outputs": [
        {
          "output_type": "execute_result",
          "data": {
            "text/plain": [
              "3"
            ]
          },
          "metadata": {},
          "execution_count": 3
        }
      ]
    },
    {
      "cell_type": "code",
      "source": [
        "#scoresの平均値（合計値/要素数）\n",
        "sum(scores)/ num"
      ],
      "metadata": {
        "colab": {
          "base_uri": "https://localhost:8080/"
        },
        "id": "p0mGQQUojCf9",
        "outputId": "0373848e-38f2-48d5-ad05-2a741752880f"
      },
      "execution_count": null,
      "outputs": [
        {
          "output_type": "execute_result",
          "data": {
            "text/plain": [
              "70.0"
            ]
          },
          "metadata": {},
          "execution_count": 4
        }
      ]
    },
    {
      "cell_type": "code",
      "source": [
        "#scoresリストの最大値を出力\n",
        "max(scores)"
      ],
      "metadata": {
        "colab": {
          "base_uri": "https://localhost:8080/"
        },
        "id": "mhxiDgUQjEVW",
        "outputId": "4dea36f1-be91-4b7d-d80d-b62a302ce017"
      },
      "execution_count": null,
      "outputs": [
        {
          "output_type": "execute_result",
          "data": {
            "text/plain": [
              "90"
            ]
          },
          "metadata": {},
          "execution_count": 5
        }
      ]
    },
    {
      "cell_type": "markdown",
      "source": [
        "###メソッド"
      ],
      "metadata": {
        "id": "PoVv0JgZi_Cu"
      }
    },
    {
      "cell_type": "markdown",
      "source": [
        "メソッドは、各データ型が持つ、自身に対する処理を実行するコードです。つまり、関数のような処理が各データ型にも準備されています。リストのindexメソッドを例にメソッドのイメージを示します。メソッドは、関数と同様に引数を入力し、戻り値を出力できます。コードとしての違いとして、メソッドでは、メソッド名の前にリストを代入した変数名と`.`（ドット）を付けて必要があります。"
      ],
      "metadata": {
        "id": "WK9IBEwajI-d"
      }
    },
    {
      "cell_type": "markdown",
      "source": [
        "![image.png](data:image/png;base64,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)"
      ],
      "metadata": {
        "id": "jH_6QU5wlamE"
      }
    },
    {
      "cell_type": "code",
      "source": [
        "scores = [50, 90, 70]"
      ],
      "metadata": {
        "id": "dQNIOmhfjLRE"
      },
      "execution_count": null,
      "outputs": []
    },
    {
      "cell_type": "code",
      "source": [
        "#indexメソッド（該当要素のインデックスを出力）\n",
        "scores.index(50)"
      ],
      "metadata": {
        "id": "py4wsEVJjMa-"
      },
      "execution_count": null,
      "outputs": []
    },
    {
      "cell_type": "markdown",
      "source": [
        "sortメソッドは、要素の順番を並び替えるメソッドです。引数をなしにすると小さいもの順（昇順）にリストを並び替えます。要素の順番が変わるだけで、戻り値はありません。sortメソッドを使用後、scoresを参照すると昇順に並び替えられたのが確認できます。"
      ],
      "metadata": {
        "id": "yM1CrKUUm6Fz"
      }
    },
    {
      "cell_type": "code",
      "source": [
        "#sortメソッド（並び替え／昇順、戻り値なし）\n",
        "scores.sort()\n",
        "scores"
      ],
      "metadata": {
        "colab": {
          "base_uri": "https://localhost:8080/"
        },
        "id": "_1uN35e3jO_x",
        "outputId": "e017e28b-9667-4cdb-a7b3-c109af904da6"
      },
      "execution_count": null,
      "outputs": [
        {
          "output_type": "execute_result",
          "data": {
            "text/plain": [
              "[50, 70, 90]"
            ]
          },
          "metadata": {},
          "execution_count": 7
        }
      ]
    },
    {
      "cell_type": "markdown",
      "source": [
        "関数は、さまざまなデータに処理を適用できますが、メソッドは、自身のデータに処理を適用します。このようなメソッドは、リストだけでなく全てのデータ型に準備されています。例えば、文字列のstr型には、小文字のアルファベットを大文字に変更したり、部分文字列を置換したりできるメソッドがあらかじめ用意されています。Pythonでは、全てのデータ型が値と処理のセットとなっており、オブジェクトと呼ばれます。"
      ],
      "metadata": {
        "id": "fenmcARalosJ"
      }
    },
    {
      "cell_type": "markdown",
      "source": [
        "##オブジェクト"
      ],
      "metadata": {
        "id": "yJjlcJBJGjqa"
      }
    },
    {
      "cell_type": "markdown",
      "source": [
        "**オブジェクト**は、値（**属性**）と処理（**メソッド**）をまとめたモノです。リストで紹介したように、リストは自身の要素に対する処理を持っていました。このような値と処理をまとめたものは全てオブジェクトと呼ばれます。オブジェクトがどのような値と処理を持つかは、**クラス**と呼ばれる設計書のようなプログラムによって定義されます。属性はクラスに所属する変数、メソッドはクラスに所属する関数です。コードの記載方法が変数の参照方法と関数の使用方法と似ていますが、オブジェクトを代入した変数名とドットを前に付ける点が異なります。メソッドの使用方法は、すでに、リストのメソッドでも紹介した通りです。"
      ],
      "metadata": {
        "id": "qcow_4bOcTwy"
      }
    },
    {
      "cell_type": "markdown",
      "source": [
        "![image.png](data:image/png;base64,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)"
      ],
      "metadata": {
        "id": "ABRXuAlnjbHE"
      }
    },
    {
      "cell_type": "markdown",
      "source": [
        "それでは、クラスを使ってオブジェクトを生成する方法を紹介します。以下のように、クラス名と丸かっこを使用してクラスに定義されたオブジェクトを生成し、変数に代入できます。クラスで定義されたモノを代入して実際に扱えるようにするため、変数に代入したオブジェクトを「実例」を意味する**インスタンス**と呼ぶこともあります。そして、インスタンスの生成を**インスタンス化**と呼びます。"
      ],
      "metadata": {
        "id": "umSFzAJkFr7i"
      }
    },
    {
      "cell_type": "markdown",
      "source": [
        ">**【オブジェクトの生成（インスタンス化）方法】**\n",
        ">\n",
        ">```python\n",
        "変数名 = クラス名()\n",
        "```\n",
        "かっこ内に値を入れる場合もあります。`()`内に値を入れる入れないに関わらず、`()`は必須です。"
      ],
      "metadata": {
        "id": "-bU_f7Urf9tt"
      }
    },
    {
      "cell_type": "markdown",
      "source": [
        "これまで扱ってきた数値や文字列、リストのインスタンス化方法とは、異なりますが、これまでに紹介したオブジェクトはよく使用されるため、Pythonでは例外的に簡易的な代入方法が可能となっています。しかし、一般的なクラスは、このようにクラス名と丸かっこを使用します。"
      ],
      "metadata": {
        "id": "LHYqRgsiHRK_"
      }
    },
    {
      "cell_type": "markdown",
      "source": [
        ">**【属性の参照方法】**\n",
        ">\n",
        ">```python\n",
        "変数名.属性名\n",
        "```\n",
        "インスタンスの属性の参照では、通常の変数の参照と異なり、クラスを代入した変数名と`.`（ドット）を前に付ける必要があります。"
      ],
      "metadata": {
        "id": "VXYNzG6Pf_Rp"
      }
    },
    {
      "cell_type": "markdown",
      "source": [
        ">**【メソッドの使用方法】**\n",
        ">\n",
        ">```python\n",
        "変数名.メソッド名()\n",
        "```\n",
        "インスタンスのメソッドの使用では、通常の関数の使用方法と異なり、クラスを代入した変数名と`.`（ドット）を前に付ける必要があります。"
      ],
      "metadata": {
        "id": "muGNk4oTgAiS"
      }
    },
    {
      "cell_type": "markdown",
      "source": [
        "データサイエンスでは、表データを管理するクラスや機械学習モデルのクラスなどを活用します。例えば、機械学習モデルのクラスは、属性に学習のパラメータなどの数値を持ち、メソッドにパラメータを求める計算処理やパラメータを使って予測・評価する処理を持ちます。自身でこれらのクラスを定義することは少なく、基本的にはライブラリと呼ばれる既存のプログラムファイル集から必要なクラスに関するコードを取り込んで利用することになります。次に、データサイエンスでよく使用するライブラリについて紹介します。"
      ],
      "metadata": {
        "id": "z_Q9Cy1pEW1D"
      }
    },
    {
      "cell_type": "markdown",
      "source": [
        "クラスとオブジェクトの説明は以上です。インスタンス化と属性の参照、メソッドの使用方法は、丸かっこの有無やドットを使う点に注意してください。以下の用語の理解に自信が持てなければ、再度、確認してみましょう。\n",
        "\n",
        "*   オブジェクト\n",
        "*   クラス\n",
        "*   属性\n",
        "*   メソッド"
      ],
      "metadata": {
        "id": "U5Jv7VpgA8pp"
      }
    },
    {
      "cell_type": "markdown",
      "source": [
        "##ライブラリ"
      ],
      "metadata": {
        "id": "1ixtqo_wGwZA"
      }
    },
    {
      "cell_type": "markdown",
      "source": [
        "ライブラリは、役立つプログラムのファイル集です。図書館（library）で本を借りて、必要な部分を引用するのと同様に、Pythonにもライブラリから既存の便利なプログラム（クラスや関数、変数）を必要な分だけ利用できる仕組みがあります。"
      ],
      "metadata": {
        "id": "3MiqL_eLpu7R"
      }
    },
    {
      "cell_type": "markdown",
      "source": [
        "データサイエンスでよく使用されるライブラリを以下の表に示します。これらのライブラリを活用することで、少ないコード量で容易にデータ分析が可能になります。"
      ],
      "metadata": {
        "id": "1RK1h_tGrOMd"
      }
    },
    {
      "cell_type": "markdown",
      "source": [
        "|ライブラリ（読み方）|主な用途や特徴|\n",
        "|:-|:-|\n",
        "|NumPy（ナムパイ）|計算を高速化、線形代数や統計の計算にも利用|\n",
        "|pandas（パンダス）|表データの加工処理|\n",
        "|matplotlib（マットプロットリブ）|グラフ描画によるデータの可視化|\n",
        "|scikit-learn（サイキットラーン）|機械学習のモデル構築・データの予測・精度評価|"
      ],
      "metadata": {
        "id": "V8JpbuiRLSio"
      }
    },
    {
      "cell_type": "markdown",
      "source": [
        "ライブラリに提供されているプログラムファイルを利用するには、取り込む処理（インポート）が必要です。コード上では`import`と記載することで取り込めます。"
      ],
      "metadata": {
        "id": "VfhA985s_3Bb"
      }
    },
    {
      "cell_type": "markdown",
      "source": [
        "インポート方法にはいくつかの方法があります。まず、pandasとNumPyのインポート方法を下のコードセルで確認してみましょう。`pandas`のあとに、`as pd`と記載があります。`as`を付け加えると、インポート時の名前を別名に変更できます。`as`は必須というわけではありませんが、pandasは`pd`と略称にしてインポートするのが慣習となっています。"
      ],
      "metadata": {
        "id": "E2BoIa1_jPfK"
      }
    },
    {
      "cell_type": "code",
      "source": [
        "#pandasをpdという慣習名で取り込む\n",
        "import pandas as pd"
      ],
      "metadata": {
        "id": "DNtBt0URfNk2"
      },
      "execution_count": null,
      "outputs": []
    },
    {
      "cell_type": "markdown",
      "source": [
        "同様にNumPyをインポートしてみましょう。NumPyは、インポート時の名前は小文字でのnumpyとなっています。また、numpyは、`np`と略称にしてインポートするのが慣習となっています。"
      ],
      "metadata": {
        "id": "_REIRf17kDaS"
      }
    },
    {
      "cell_type": "code",
      "source": [
        "#numpyをnpという名でインポート\n",
        "import numpy as np"
      ],
      "metadata": {
        "id": "GqSvE1IxfTUp"
      },
      "execution_count": null,
      "outputs": []
    },
    {
      "cell_type": "markdown",
      "source": [
        "次に、インポートしたライブラリ内のコードの利用方法を紹介します。ライブラリ内の変数や関数、クラスを利用したい場合、その名前の前に`as`の後に記載した名前と`.`（ドット）を付ける必要があります。"
      ],
      "metadata": {
        "id": "AZUMbiIQkRf8"
      }
    },
    {
      "cell_type": "markdown",
      "source": [
        ">**【ライブラリ内の変数の参照方法】**\n",
        ">\n",
        ">```python\n",
        "インポート時の名前.変数名\n",
        "```\n",
        "`as`を使用してインポートした場合はasの後に記載した名前を使用します。"
      ],
      "metadata": {
        "id": "n4OKV8pEdUHR"
      }
    },
    {
      "cell_type": "markdown",
      "source": [
        "次のコードセルで、NumPy内の円周率を記録している変数piを参照してみましょう。なお、インポート時に`as np`を追記していない場合は、変数`pi`の前に付けるのは`np`ではなく、`numpy`となります。"
      ],
      "metadata": {
        "id": "dp2hKqBzkjU0"
      }
    },
    {
      "cell_type": "code",
      "source": [
        "#numpy（慣習名np）の円周率piを参照\n",
        "np.pi"
      ],
      "metadata": {
        "colab": {
          "base_uri": "https://localhost:8080/"
        },
        "id": "c34HgZMvfY3t",
        "outputId": "cbfb44cd-9618-4a4d-931f-f0cdb6b2cc04"
      },
      "execution_count": null,
      "outputs": [
        {
          "output_type": "execute_result",
          "data": {
            "text/plain": [
              "3.141592653589793"
            ]
          },
          "metadata": {},
          "execution_count": 4
        }
      ]
    },
    {
      "cell_type": "markdown",
      "source": [
        "次に、numpyの平均値を求める`mean`関数の使用方法も確認してみましょう。関数名の前にインポート時の名前と.（ドット）を付けるのは、変数piの参照と同様です。適当な値のリストを引数に渡して、その結果を確認してみてください。平均値などの統計用語の詳細は、後ほど紹介する「統計量の計算」で扱います。"
      ],
      "metadata": {
        "id": "PtqNFGyqktkY"
      }
    },
    {
      "cell_type": "markdown",
      "source": [
        ">**【ライブラリの関数の使用方法】**\n",
        ">\n",
        ">```python\n",
        "インポート時の名前.関数名()\n",
        "```"
      ],
      "metadata": {
        "id": "RGXi9HP0devh"
      }
    },
    {
      "cell_type": "code",
      "source": [
        "#numpyの平均を求める関数を使用\n",
        "np.mean([1,2,3])"
      ],
      "metadata": {
        "colab": {
          "base_uri": "https://localhost:8080/"
        },
        "id": "Wm6hdGHRcJ9M",
        "outputId": "511126d3-aa38-4bde-cb20-d1c0a4821730"
      },
      "execution_count": null,
      "outputs": [
        {
          "output_type": "execute_result",
          "data": {
            "text/plain": [
              "2.0"
            ]
          },
          "metadata": {},
          "execution_count": 6
        }
      ]
    },
    {
      "cell_type": "markdown",
      "source": [
        "次に、グラフ描画によく使用されるmatplotlibのプログラムファイルをインポートする方法を確認しましょう。"
      ],
      "metadata": {
        "id": "1-fRg2L5siMO"
      }
    },
    {
      "cell_type": "code",
      "source": [
        "#matplotlib内のpyplotをpltという慣習名でインポート\n",
        "import matplotlib.pyplot as plt"
      ],
      "metadata": {
        "id": "IBu_DiK2fy7m"
      },
      "execution_count": null,
      "outputs": []
    },
    {
      "cell_type": "markdown",
      "source": [
        "今回は、インポート時に新たに`.`（ドット）が付いています。matplotlibで提供されるフォルダ内にpyplot（パイプロット）というファイルがあるため、ドットを使ってファイルの階層構造が表現されています。pyplotは、グラフ描画に必要な関数を含むプログラムファイルです。`plt`という名前でインポートするのが慣習となっています。また、pyplotのインポート方法には、ドットではなく、`from`を使った方法もあります。importの前に**`from`**と記載することで、matplotlib**から**pyplotをインポートします。fromを使用することで、一部のプログラムを取り込めるようになります。"
      ],
      "metadata": {
        "id": "Xj92z2Cas-WX"
      }
    },
    {
      "cell_type": "code",
      "source": [
        "#matplotlibからpyplotをpltという慣習名でインポート\n",
        "from matplotlib import pyplot as plt"
      ],
      "metadata": {
        "id": "VaY8F6w6f8sO"
      },
      "execution_count": null,
      "outputs": []
    },
    {
      "cell_type": "markdown",
      "source": [
        "最後に機械学習で使用するscikit-learnライブラリの利用方法を紹介します。scikit-learnのインポート時の名前は`sklearn`となっています。今回は、さきほどの`from`を使用して一部のプログラム（クラス）だけを取り込みます。`sklearn`には、多くの機械学習モデルが含まれているため、通常、必要なモデルのプログラムだけを取りこみます。次のコードセルで、`sklearn`のさらに`linear_model`の中から`LinearRegression`という線形回帰分析用のクラスを取り込んでみましょう。ドット部分は、これまで同様に、フォルダの階層構造を表現しています。"
      ],
      "metadata": {
        "id": "o8jXDZfytVjG"
      }
    },
    {
      "cell_type": "code",
      "source": [
        "#sklearnのlinear_modelからLinearRegressionクラスをインポート\n",
        "from sklearn.linear_model import LinearRegression"
      ],
      "metadata": {
        "id": "JszrgBtcgGgW"
      },
      "execution_count": null,
      "outputs": []
    },
    {
      "cell_type": "markdown",
      "source": [
        "オブジェクトとクラスで学んだ方法を復習し、インポートしたLinearRegressionクラスのインスタンス化を実践してみましょう。クラス名のあとに丸かっこの付け忘れに注意してください。なお、今回は、クラス名の前にドットが付いていませんが、`from`を使って一部の変数や関数、クラスの一部のコードだけを取り込んだ場合は、ドットを付ける必要がなくなります。"
      ],
      "metadata": {
        "id": "x0G5Pbu9_Rgm"
      }
    },
    {
      "cell_type": "code",
      "source": [
        "#LinearRegression（線形回帰モデル）クラスのインスタンス化\n",
        "model = LinearRegression()"
      ],
      "metadata": {
        "id": "9thwKEdugYpl"
      },
      "execution_count": null,
      "outputs": []
    },
    {
      "cell_type": "markdown",
      "source": [
        "さまざまなインポート方法を紹介しましたが、暗記は必要ありません。使用したいライブラリが決まれば、`import`部分の行をコピー＆ペーストするだけで大丈夫です。"
      ],
      "metadata": {
        "id": "l7V8kUFVgYGk"
      }
    },
    {
      "cell_type": "markdown",
      "source": [
        "ライブラリの説明は以上です。以下のインポート時にコードセルで使用する単語の使い方に自信が持てなければ、再度、確認してみましょう。\n",
        "\n",
        "*   import\n",
        "*   as\n",
        "*   from\n"
      ],
      "metadata": {
        "id": "FxXIrzck_xyO"
      }
    },
    {
      "cell_type": "markdown",
      "source": [
        "#統計量の計算"
      ],
      "metadata": {
        "id": "0zdZceEdx0IR"
      }
    },
    {
      "cell_type": "markdown",
      "source": [
        "データサイエンスでは、統計の知識が必要となります。ここでは、基本的な統計用語の確認とNumPyライブラリを使用した計算方法について紹介します。"
      ],
      "metadata": {
        "id": "DrYvg6Mgx4nP"
      }
    },
    {
      "cell_type": "markdown",
      "source": [
        "##平均値"
      ],
      "metadata": {
        "id": "gVVj-nahyXkw"
      }
    },
    {
      "cell_type": "markdown",
      "source": [
        "**平均値**は、全てのデータの合計（$x_{1} + x_{2} + \\dots + x_{n}$）をデータの個数$n$で割った値です。式で表すと平均値（$\\overline{x}$）は、次のように表せます。"
      ],
      "metadata": {
        "id": "l-fswLruyZmA"
      }
    },
    {
      "cell_type": "markdown",
      "source": [
        "$$\n",
        "\\overline{x} =  \\frac{x_{1} + x_{2} + \\dots + x_{n}}{n} =\\frac{1}{n}\\sum_{i=1}^{n}  x_{i}\n",
        "$$"
      ],
      "metadata": {
        "id": "p-A_4fDAyqSR"
      }
    },
    {
      "cell_type": "markdown",
      "source": [
        "NumPyには、平均値（mean）を求める関数が用意されています。Python文法のライブラリで扱ったようにまず、NumPyをインポートし、数値リストの平均値を求めてみましょう。"
      ],
      "metadata": {
        "id": "oozAxQxA06KE"
      }
    },
    {
      "cell_type": "code",
      "source": [
        "#numpyのインポート\n",
        "import numpy as np"
      ],
      "metadata": {
        "id": "mWG1_zavx3sq"
      },
      "execution_count": null,
      "outputs": []
    },
    {
      "cell_type": "code",
      "source": [
        "#平均値を求める数値リスト（数値を任意に変更し実行可能です）\n",
        "data = [0, 2, 4, 6, 8]"
      ],
      "metadata": {
        "id": "t0CUE0iK1czs"
      },
      "execution_count": null,
      "outputs": []
    },
    {
      "cell_type": "code",
      "source": [
        "#numpyのmean関数で平均値の計算\n",
        "np.mean(data)"
      ],
      "metadata": {
        "colab": {
          "base_uri": "https://localhost:8080/"
        },
        "id": "XQm5hp1j1ut9",
        "outputId": "fb2c277c-a839-4f62-fcd6-d0aba6d5d42f"
      },
      "execution_count": null,
      "outputs": [
        {
          "output_type": "execute_result",
          "data": {
            "text/plain": [
              "4.0"
            ]
          },
          "metadata": {},
          "execution_count": 3
        }
      ]
    },
    {
      "cell_type": "markdown",
      "source": [
        "##分散"
      ],
      "metadata": {
        "id": "284g-Pmc15E4"
      }
    },
    {
      "cell_type": "markdown",
      "source": [
        "**分散**は、データのばらつき具合を表した値です。式で表すと分散（$\\sigma^2$：シグマの二乗）は、次のように表せます。"
      ],
      "metadata": {
        "id": "sPIgNszy1-h4"
      }
    },
    {
      "cell_type": "markdown",
      "source": [
        "$$\n",
        "\\sigma^2 =\\frac{1}{n}\\sum_{i=1}^{n}  (x_{i}-\\overline{x})^2\n",
        "$$"
      ],
      "metadata": {
        "id": "zF7spv_12jSL"
      }
    },
    {
      "cell_type": "markdown",
      "source": [
        "分散が大きいほどばらついていることを意味します。分散の単位は、元のデータの単位の二乗となります。なお、各データの値と平均値の差（$ x_{i}-\\overline{x}$）を特に**偏差**と呼びます。分散は、偏差の二乗平均に相当します。"
      ],
      "metadata": {
        "id": "XRs8SMMg2a9P"
      }
    },
    {
      "cell_type": "markdown",
      "source": [
        "NumPyには、分散（variance）を求める関数も用意されています。以下の2つのデータ（data1とdata2）があるとき、どちらのデータの方がばらつきが大きいでしょうか。NumPyのvar関数を使ってばらつき具合を定量的に評価してみましょう。"
      ],
      "metadata": {
        "id": "Sr-Wn7gQ4w_p"
      }
    },
    {
      "cell_type": "code",
      "source": [
        "#分散を求める2つの数値リスト（数値を任意に変更し実行可能です）\n",
        "data1 = [0, 2, 4, 6, 8]\n",
        "data2 = [0, 2, 4, 8, 11]"
      ],
      "metadata": {
        "id": "ssawZbjY11A8"
      },
      "execution_count": null,
      "outputs": []
    },
    {
      "cell_type": "code",
      "source": [
        "#numpyのvar関数でdata1の分散を計算\n",
        "np.var(data1)"
      ],
      "metadata": {
        "colab": {
          "base_uri": "https://localhost:8080/"
        },
        "id": "I2xQr9h05O5P",
        "outputId": "e285ec00-eb75-4c2b-d0b9-c9896b4f0201"
      },
      "execution_count": null,
      "outputs": [
        {
          "output_type": "execute_result",
          "data": {
            "text/plain": [
              "8.0"
            ]
          },
          "metadata": {},
          "execution_count": 9
        }
      ]
    },
    {
      "cell_type": "code",
      "source": [
        "#numpyのvar関数でdata2の分散を計算\n",
        "np.var(data2)"
      ],
      "metadata": {
        "colab": {
          "base_uri": "https://localhost:8080/"
        },
        "id": "6vl3VskS5n4X",
        "outputId": "3eb49df4-5920-4c7e-80d6-8a43b34600e3"
      },
      "execution_count": null,
      "outputs": [
        {
          "output_type": "execute_result",
          "data": {
            "text/plain": [
              "16.0"
            ]
          },
          "metadata": {},
          "execution_count": 10
        }
      ]
    },
    {
      "cell_type": "markdown",
      "source": [
        "##標準偏差"
      ],
      "metadata": {
        "id": "JskS4W3g6TKs"
      }
    },
    {
      "cell_type": "markdown",
      "source": [
        "**標準偏差**は、分散の平方根を取り、元のデータと単位をそろえた値です。式で表すと標準偏差（$\\sigma$）は、次のように表せます。"
      ],
      "metadata": {
        "id": "4zj0kNDz6WOI"
      }
    },
    {
      "cell_type": "markdown",
      "source": [
        "$$\n",
        "\\sigma = \\sqrt{\\sigma^2}\n",
        "$$"
      ],
      "metadata": {
        "id": "orAWbA8s7HNN"
      }
    },
    {
      "cell_type": "markdown",
      "source": [
        "分散と同じく、標準偏差も大きいほどデータがばらついていることを意味します。標準偏差は英語でstandard deviationと呼ばれるため、頭文字sのギリシャ文字$\\sigma$と表記され、標準偏差の二乗である分散は$\\sigma^2$と表記されたりします。"
      ],
      "metadata": {
        "id": "dZtVHzcR7Y0-"
      }
    },
    {
      "cell_type": "markdown",
      "source": [
        "NumPyには、標準偏差を求める関数も用意されています。さきほど分散を計算した2つのデータの分布に対してもNumPyのstd関数を使用して標準偏差を求めてみましょう。標準偏差の値の2乗がvar関数で求めた値と同じになっていることが確認できます。"
      ],
      "metadata": {
        "id": "xXq4RzgT9dLI"
      }
    },
    {
      "cell_type": "code",
      "source": [
        "np.std(data1)"
      ],
      "metadata": {
        "colab": {
          "base_uri": "https://localhost:8080/"
        },
        "id": "3fDkQpMT9zRX",
        "outputId": "ea1b768c-5e5f-400a-a783-adf9692cc874"
      },
      "execution_count": null,
      "outputs": [
        {
          "output_type": "execute_result",
          "data": {
            "text/plain": [
              "2.8284271247461903"
            ]
          },
          "metadata": {},
          "execution_count": 17
        }
      ]
    },
    {
      "cell_type": "code",
      "source": [
        "np.std(data2)"
      ],
      "metadata": {
        "colab": {
          "base_uri": "https://localhost:8080/"
        },
        "id": "L7WBWOr395l0",
        "outputId": "acb23fe1-cf56-42e4-b82b-536634754475"
      },
      "execution_count": null,
      "outputs": [
        {
          "output_type": "execute_result",
          "data": {
            "text/plain": [
              "4.0"
            ]
          },
          "metadata": {},
          "execution_count": 12
        }
      ]
    },
    {
      "cell_type": "markdown",
      "source": [
        "##標準化"
      ],
      "metadata": {
        "id": "hGT-RW5g89se"
      }
    },
    {
      "cell_type": "markdown",
      "source": [
        "**標準化**は、さまざまなデータを同じ基準で比較できるように変換する手法です。具体的には、各データから平均値を引いて、標準偏差で割ることを標準化と言います。標準化した値（Z）は、以下の数式で表せます。"
      ],
      "metadata": {
        "id": "CFnzjPTg-g5Z"
      }
    },
    {
      "cell_type": "markdown",
      "source": [
        "$$\n",
        "\\ Z = \\frac{x_{i}-\\overline{x}}{\\sigma}\n",
        "$$"
      ],
      "metadata": {
        "id": "3riGaJZl-7qa"
      }
    },
    {
      "cell_type": "markdown",
      "source": [
        "標準化したデータでは、平均値は0、標準偏差は1となります。標準化した値の使用例が偏差値です。偏差値は、標準化した値Zに10をかけて50を足した値です。例えば、英語と数学など異なるテストであっても、偏差値を計算することで、成績の比較が可能となります。偏差値は、全学生のテスト結果の平均値と同じ値の場合、50となります。"
      ],
      "metadata": {
        "id": "bDuZcz1r-rO6"
      }
    },
    {
      "cell_type": "markdown",
      "source": [
        "##相関係数"
      ],
      "metadata": {
        "id": "qOSoMG0P9AAe"
      }
    },
    {
      "cell_type": "markdown",
      "source": [
        "**相関係数**は、2つのデータの間にどの程度関連があるかを表した指標です。相関係数は-1から1までの値となります。１に近いと「**正の相関**」、-1に近いと「**負の相関**」、0に近いと「**弱い相関**」と表現されます。相関係数（R）は、以下の数式で表せます。"
      ],
      "metadata": {
        "id": "ftx9VWtKA-YD"
      }
    },
    {
      "cell_type": "markdown",
      "source": [
        "$$\n",
        "R = \\frac{\\sum_{i=1}^{n}(x_{i}-\\overline{x})(y_{i}-\\overline{y})}{\\sqrt{\\sum_{i=1}^{n}(x_{i}-\\overline{x})^2}\\sqrt{\\sum_{i=1}^{n}(y_{i}-\\overline{y})^2}}\n",
        "$$"
      ],
      "metadata": {
        "id": "qsiGIrV__ud2"
      }
    },
    {
      "cell_type": "markdown",
      "source": [
        "NumPyには、相関係数を求める関数も用意されています。以下のデータに対して、NumPyのcorrecoef関数を使用して相関係数を計算してみましょう。corrcoef関数は相関行列を戻り値とするため、`[0,1]`と記入して0行1列のxとyの相関係数を選択しています。"
      ],
      "metadata": {
        "id": "J064bSsfBon-"
      }
    },
    {
      "cell_type": "code",
      "source": [
        "#xが増加するとyも増加するデータ\n",
        "x = [1, 2, 3, 4, 5]\n",
        "y = [4, 7, 9, 10, 11]\n",
        "#numpyのcorrcoef関数で相関係数の計算\n",
        "np.corrcoef(x,y)[0,1]"
      ],
      "metadata": {
        "id": "Saep5D7t50_-",
        "colab": {
          "base_uri": "https://localhost:8080/"
        },
        "outputId": "c6370c8c-6091-489a-8942-d219dbb77ec7"
      },
      "execution_count": null,
      "outputs": [
        {
          "output_type": "execute_result",
          "data": {
            "text/plain": [
              "0.9686648999069225"
            ]
          },
          "metadata": {},
          "execution_count": 19
        }
      ]
    },
    {
      "cell_type": "markdown",
      "source": [
        "xが増加するとyも増加するデータでは、相関係数が1に近いことが確認できます。"
      ],
      "metadata": {
        "id": "Vun6fvTdG9tw"
      }
    },
    {
      "cell_type": "code",
      "source": [
        "#xが増加するとyが減少するデータ\n",
        "x = [1, 2, 3, 4, 5]\n",
        "y = [11, 10, 10, 7, 3]\n",
        "#numpyのcorrcoef関数で相関係数の計算\n",
        "np.corrcoef(x,y)[0,1]"
      ],
      "metadata": {
        "colab": {
          "base_uri": "https://localhost:8080/"
        },
        "id": "zs25lH71CLZZ",
        "outputId": "9220b995-2f81-41d4-8db9-fd8da963822b"
      },
      "execution_count": null,
      "outputs": [
        {
          "output_type": "execute_result",
          "data": {
            "text/plain": [
              "-0.9183996645933804"
            ]
          },
          "metadata": {},
          "execution_count": 20
        }
      ]
    },
    {
      "cell_type": "markdown",
      "source": [
        "xが増加するとyが減少するデータでは、相関係数が-1に近いことが確認できます。"
      ],
      "metadata": {
        "id": "xT5TELo6HGGP"
      }
    },
    {
      "cell_type": "markdown",
      "source": [
        "統計用語の説明は以上です。以下の基本的な用語の理解に自信が持てなければ、再度、確認してみましょう。\n",
        "\n",
        "*   平均値\n",
        "*   分散\n",
        "*   標準偏差\n",
        "*   標準化\n",
        "*   相関係数\n",
        "\n"
      ],
      "metadata": {
        "id": "mbyhT1nK7SGY"
      }
    }
  ]
}